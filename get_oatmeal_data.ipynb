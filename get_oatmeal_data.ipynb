{
 "cells": [
  {
   "cell_type": "markdown",
   "metadata": {},
   "source": [
    "# Get Data from Airtable\n",
    "\n",
    "This gets the data from the two tables and formats it into dataframes. It's probably not the cleanest thing in the world, but hopefully it'll do for now."
   ]
  },
  {
   "cell_type": "code",
   "execution_count": 34,
   "metadata": {
    "ExecuteTime": {
     "end_time": "2018-06-12T08:49:27.636891Z",
     "start_time": "2018-06-12T08:49:27.630890Z"
    },
    "collapsed": true
   },
   "outputs": [],
   "source": [
    "import ast\n",
    "import pandas as pd\n",
    "import requests\n",
    "import textwrap\n",
    "import simplejson\n",
    "from datetime import datetime"
   ]
  },
  {
   "cell_type": "code",
   "execution_count": 35,
   "metadata": {
    "ExecuteTime": {
     "end_time": "2018-06-12T08:49:27.643891Z",
     "start_time": "2018-06-12T08:49:27.638891Z"
    },
    "collapsed": true
   },
   "outputs": [],
   "source": [
    "LINE_LENGTH = 15\n",
    "\n",
    "jsonp_body = \"// This is crusty, but it seems to work.\\n// Generated at {}\".format(str(datetime.now()))"
   ]
  },
  {
   "cell_type": "code",
   "execution_count": 36,
   "metadata": {
    "ExecuteTime": {
     "end_time": "2018-06-12T08:49:27.668894Z",
     "start_time": "2018-06-12T08:49:27.646892Z"
    },
    "collapsed": true
   },
   "outputs": [],
   "source": [
    "def mergeD(ugly_data):\n",
    "    f = ugly_data[\"fields\"]\n",
    "    i = {\"id\": ugly_data[\"id\"]}\n",
    "    f.update(i)\n",
    "    return f\n",
    "\n",
    "def get_table(table_name):\n",
    "    \"\"\" \"\"\"\n",
    "    auth_headers = {'Authorization': 'Bearer keyYXkjYFw61SeWDk'}\n",
    "    table_url = 'https://api.airtable.com/v0/appuaXpFiadmP89sq/' + table_name\n",
    "    r = requests.get(table_url, headers=auth_headers)\n",
    "    d = eval(ast.literal_eval(str(r.content)[1:])) # this is almost certainly not the right way to do this!\n",
    "    \n",
    "    rows = [mergeD(x) for x in d[\"records\"]]\n",
    "    data_frame = pd.DataFrame(rows)\n",
    "    return data_frame"
   ]
  },
  {
   "cell_type": "code",
   "execution_count": 37,
   "metadata": {
    "ExecuteTime": {
     "end_time": "2018-06-12T08:49:28.766004Z",
     "start_time": "2018-06-12T08:49:27.671894Z"
    },
    "collapsed": true
   },
   "outputs": [],
   "source": [
    "project_data = get_table(\"Techs\")\n",
    "project_data.set_index(\"id\", inplace=True)\n",
    "\n",
    "node_description_pattern = \"{name} [label=\\\"{longName}\\\"];\"\n",
    "edge_pattern = \"{from_node} -> {to_node};\"\n",
    "\n",
    "node_descriptions = []\n",
    "edges = []\n",
    "for i, row in project_data.iterrows():\n",
    "    try:\n",
    "        ln = \"\\n\".join( textwrap.wrap(row[\"LongName\"], LINE_LENGTH))\n",
    "    except Exception as e:\n",
    "        ln = row[\"LongName\"]\n",
    "    n = node_description_pattern.format(name=row[\"Name\"], longName=ln)\n",
    "    node_descriptions.append(n)\n",
    "    if type(row[\"precursors\"]) is not float: # nothing reads as NaN, therefore float\n",
    "        precursors = row[\"precursors\"]#.split(\",\")\n",
    "        for precursor in precursors:\n",
    "            e = edge_pattern.format(from_node=project_data.loc[precursor].Name,\n",
    "                                    to_node=row[\"Name\"])\n",
    "            edges.append(e)\n",
    "    "
   ]
  },
  {
   "cell_type": "code",
   "execution_count": 52,
   "metadata": {
    "ExecuteTime": {
     "end_time": "2018-06-12T08:52:20.661191Z",
     "start_time": "2018-06-12T08:52:20.652190Z"
    }
   },
   "outputs": [
    {
     "name": "stdout",
     "output_type": "stream",
     "text": [
      "src=\"https://docs.google.com/presentation/d/e/2PACX-1vRF7DSeGnbLr_zwWnHVrUF0ptxjfIoj9bDwkaJb370IYYWEwF48yszwLUUTAECQ5F6mlJMrUrlQqdj-/embed?start=false&loop=false&delayms=60000\"\n",
      "https://docs.google.com/presentation/d/e/2PACX-1vRF7DSeGnbLr_zwWnHVrUF0ptxjfIoj9bDwkaJb370IYYWEwF48yszwLUUTAECQ5F6mlJMrUrlQqdj-/embed\n"
     ]
    }
   ],
   "source": [
    "# pull the embed url out of the iframe link\n",
    "de = project_data.loc[\"recgrgZIuBEI9namY\"].deck_embed.split(\" \")\n",
    "for thing in de:\n",
    "    if \"src=\" in thing:\n",
    "        print(thing[5:-1].split(\"?\")[0])"
   ]
  },
  {
   "cell_type": "code",
   "execution_count": 39,
   "metadata": {
    "ExecuteTime": {
     "end_time": "2018-06-12T08:49:28.883015Z",
     "start_time": "2018-06-12T08:49:28.860013Z"
    }
   },
   "outputs": [],
   "source": [
    "g = \"\"\"digraph G {{\n",
    "  rankdir  = \"LR\";\n",
    "  label    = \"Tech Tree of OATMEAL Projects\";\n",
    "  labelloc = \"t\";\n",
    "  node [style=filled,\n",
    "        shape=\"oval\", \n",
    "        fixedsize=true, \n",
    "        width=1,\n",
    "        height=1,\n",
    "        fontsize=8\n",
    "       ];\n",
    "  edge [arrowhead=vee,\n",
    "        arrowsize=0.5]\n",
    "  \n",
    "  {nodes}\n",
    "  \n",
    "  {edges}\n",
    "  \n",
    "  //{{rank = same; data; basicRobot; hardware; systemReef; SNAawareness}};\n",
    "  \n",
    "}}\"\"\".format(edges=\"\\n  \".join(edges), \n",
    "             nodes=\"\\n  \".join(node_descriptions)) # , babies=babies\n",
    "\n",
    "\n",
    "# print(g)\n",
    "g_lines = g.split(\"\\n \")\n",
    "\n",
    "digraph_js = \"\"\"var digraph_details = {lines};\n",
    "\n",
    " digraph_details =  digraph_details.join(\"\\\\n\");\n",
    "  \n",
    "\"\"\".format(lines=g_lines)\n",
    "\n",
    "with open('digraph.js', 'w') as f:\n",
    "    f.write(digraph_js)\n",
    "    \n",
    "jsonp_body += \"\\n\\n\\n\" + digraph_js"
   ]
  },
  {
   "cell_type": "code",
   "execution_count": 40,
   "metadata": {
    "ExecuteTime": {
     "end_time": "2018-06-12T08:49:28.909018Z",
     "start_time": "2018-06-12T08:49:28.886016Z"
    },
    "collapsed": true
   },
   "outputs": [],
   "source": [
    "# make the dictionary have the project name as a key, instead of bing a list of independent dicts\n",
    "simple_dict = project_data.to_dict(orient=\"records\")\n",
    "new_dict = {}\n",
    "for row in simple_dict:\n",
    "    new_dict[row[\"Name\"]] = row\n",
    "\n",
    "j = simplejson.dumps(new_dict, ignore_nan=True, sort_keys=True, indent=2)\n",
    "j = \"var parallelData = {json};\".format(json=j)\n",
    "with open('parallelData.js', 'w') as f:\n",
    "    f.write(j)\n",
    "    \n",
    "jsonp_body += \"\\n\\n\\n\" + j"
   ]
  },
  {
   "cell_type": "code",
   "execution_count": 41,
   "metadata": {
    "ExecuteTime": {
     "end_time": "2018-06-12T08:49:28.925019Z",
     "start_time": "2018-06-12T08:49:28.912018Z"
    },
    "collapsed": true
   },
   "outputs": [],
   "source": [
    "def get_thumb(row):\n",
    "    try:\n",
    "        h = row[\"Headshot\"]\n",
    "        if type(h) is not float:\n",
    "            # TODO: make this check for small as well\n",
    "            x = list(h)\n",
    "            return x[0]['thumbnails'][\"large\"][\"url\"]\n",
    "        else:\n",
    "            return \"http://getdrawings.com/images/casper-drawing-8.jpg\"\n",
    "    except Exception as e:\n",
    "        print(e)\n",
    "        return \"http://getdrawings.com/images/casper-drawing-8.jpg\"\n"
   ]
  },
  {
   "cell_type": "code",
   "execution_count": 42,
   "metadata": {
    "ExecuteTime": {
     "end_time": "2018-06-12T08:49:29.948122Z",
     "start_time": "2018-06-12T08:49:28.928020Z"
    }
   },
   "outputs": [
    {
     "data": {
      "text/html": [
       "<div>\n",
       "<style>\n",
       "    .dataframe thead tr:only-child th {\n",
       "        text-align: right;\n",
       "    }\n",
       "\n",
       "    .dataframe thead th {\n",
       "        text-align: left;\n",
       "    }\n",
       "\n",
       "    .dataframe tbody tr th {\n",
       "        vertical-align: top;\n",
       "    }\n",
       "</style>\n",
       "<table border=\"1\" class=\"dataframe\">\n",
       "  <thead>\n",
       "    <tr style=\"text-align: right;\">\n",
       "      <th></th>\n",
       "      <th>Headshot</th>\n",
       "      <th>Initials</th>\n",
       "      <th>Name</th>\n",
       "      <th>Notes</th>\n",
       "      <th>Techs</th>\n",
       "      <th>id</th>\n",
       "      <th>thumb_large</th>\n",
       "    </tr>\n",
       "  </thead>\n",
       "  <tbody>\n",
       "    <tr>\n",
       "      <th>3</th>\n",
       "      <td>[{'size': 159204, 'thumbnails': {'small': {'ur...</td>\n",
       "      <td>BaD</td>\n",
       "      <td>Barry D</td>\n",
       "      <td>NaN</td>\n",
       "      <td>NaN</td>\n",
       "      <td>recFKWrjwOUM5oWxI</td>\n",
       "      <td>https://dl.airtable.com/4NWLSnTFRwSfdFDBAt9A_l...</td>\n",
       "    </tr>\n",
       "    <tr>\n",
       "      <th>0</th>\n",
       "      <td>[{'size': 186823, 'thumbnails': {'small': {'ur...</td>\n",
       "      <td>KM</td>\n",
       "      <td>Kevin M</td>\n",
       "      <td>NaN</td>\n",
       "      <td>[recnXgQGgzh4q3t9M]</td>\n",
       "      <td>rec0dpxUhHfgHWU7r</td>\n",
       "      <td>https://dl.airtable.com/6ax7C3bmSUWbWYULMZsZ_l...</td>\n",
       "    </tr>\n",
       "    <tr>\n",
       "      <th>2</th>\n",
       "      <td>[{'size': 349692, 'thumbnails': {'small': {'ur...</td>\n",
       "      <td>--</td>\n",
       "      <td>nobodyAssigned</td>\n",
       "      <td>This is who'll be assigned automagically if no...</td>\n",
       "      <td>NaN</td>\n",
       "      <td>recF9tgC6LJUmi5gJ</td>\n",
       "      <td>https://dl.airtable.com/k7bmR1FNTyeJBIzaiWcA_l...</td>\n",
       "    </tr>\n",
       "    <tr>\n",
       "      <th>4</th>\n",
       "      <td>NaN</td>\n",
       "      <td>RX</td>\n",
       "      <td>AI Richard</td>\n",
       "      <td>NaN</td>\n",
       "      <td>[recnjMKU5MFlbshGD]</td>\n",
       "      <td>recFUgthTUYQnR7Mz</td>\n",
       "      <td>http://getdrawings.com/images/casper-drawing-8...</td>\n",
       "    </tr>\n",
       "    <tr>\n",
       "      <th>10</th>\n",
       "      <td>[{'size': 4270, 'thumbnails': {'small': {'url'...</td>\n",
       "      <td>AR</td>\n",
       "      <td>Aiden</td>\n",
       "      <td>NaN</td>\n",
       "      <td>[rechAwGrx1K8hAmTi, recXEw0Q2LFFIa2XB, rec6MNL...</td>\n",
       "      <td>recj2rmnndUmxB3Dt</td>\n",
       "      <td>https://dl.airtable.com/wNAkSR0RUlLTf8AMRYJA_l...</td>\n",
       "    </tr>\n",
       "  </tbody>\n",
       "</table>\n",
       "</div>"
      ],
      "text/plain": [
       "                                             Headshot Initials  \\\n",
       "3   [{'size': 159204, 'thumbnails': {'small': {'ur...      BaD   \n",
       "0   [{'size': 186823, 'thumbnails': {'small': {'ur...       KM   \n",
       "2   [{'size': 349692, 'thumbnails': {'small': {'ur...       --   \n",
       "4                                                 NaN       RX   \n",
       "10  [{'size': 4270, 'thumbnails': {'small': {'url'...       AR   \n",
       "\n",
       "              Name                                              Notes  \\\n",
       "3          Barry D                                                NaN   \n",
       "0          Kevin M                                                NaN   \n",
       "2   nobodyAssigned  This is who'll be assigned automagically if no...   \n",
       "4       AI Richard                                                NaN   \n",
       "10           Aiden                                                NaN   \n",
       "\n",
       "                                                Techs                 id  \\\n",
       "3                                                 NaN  recFKWrjwOUM5oWxI   \n",
       "0                                 [recnXgQGgzh4q3t9M]  rec0dpxUhHfgHWU7r   \n",
       "2                                                 NaN  recF9tgC6LJUmi5gJ   \n",
       "4                                 [recnjMKU5MFlbshGD]  recFUgthTUYQnR7Mz   \n",
       "10  [rechAwGrx1K8hAmTi, recXEw0Q2LFFIa2XB, rec6MNL...  recj2rmnndUmxB3Dt   \n",
       "\n",
       "                                          thumb_large  \n",
       "3   https://dl.airtable.com/4NWLSnTFRwSfdFDBAt9A_l...  \n",
       "0   https://dl.airtable.com/6ax7C3bmSUWbWYULMZsZ_l...  \n",
       "2   https://dl.airtable.com/k7bmR1FNTyeJBIzaiWcA_l...  \n",
       "4   http://getdrawings.com/images/casper-drawing-8...  \n",
       "10  https://dl.airtable.com/wNAkSR0RUlLTf8AMRYJA_l...  "
      ]
     },
     "execution_count": 42,
     "metadata": {},
     "output_type": "execute_result"
    }
   ],
   "source": [
    "people_data = get_table(\"People\")\n",
    "people_data[\"thumb_large\"] = people_data.apply(get_thumb, axis=1)\n",
    "people_data.sample(5)"
   ]
  },
  {
   "cell_type": "code",
   "execution_count": 43,
   "metadata": {
    "ExecuteTime": {
     "end_time": "2018-06-12T08:49:29.974124Z",
     "start_time": "2018-06-12T08:49:29.951122Z"
    },
    "collapsed": true
   },
   "outputs": [],
   "source": [
    "# make the dictionary have the project name as a key, instead of bing a list of independent dicts\n",
    "simple_people_dict = people_data.to_dict(orient=\"records\")\n",
    "new_p_dict = {}\n",
    "for row in simple_people_dict:\n",
    "    new_p_dict[row[\"id\"]] = row\n",
    "    \n",
    "new_p_dict\n",
    "\n",
    "j = simplejson.dumps(new_p_dict, ignore_nan=True, sort_keys=True, indent=2)\n",
    "j = \"var peopleData = {json};\".format(json=j)\n",
    "with open('peopleData.js', 'w') as f:\n",
    "    f.write(j)\n",
    "jsonp_body += \"\\n\\n\\n\" + j"
   ]
  },
  {
   "cell_type": "code",
   "execution_count": 44,
   "metadata": {
    "ExecuteTime": {
     "end_time": "2018-06-12T08:49:29.991126Z",
     "start_time": "2018-06-12T08:49:29.977125Z"
    },
    "collapsed": true
   },
   "outputs": [],
   "source": [
    "with open('all.js', 'w') as f:\n",
    "    f.write(jsonp_body)  "
   ]
  },
  {
   "cell_type": "markdown",
   "metadata": {
    "ExecuteTime": {
     "end_time": "2018-05-30T07:34:48.821436Z",
     "start_time": "2018-05-30T07:34:48.772431Z"
    }
   },
   "source": [
    "![](https://dl.airtable.com/vao3Ge65RXuQs17gLU4p_small_MVIMG_20180224_173642.jpg)"
   ]
  }
 ],
 "metadata": {
  "kernelspec": {
   "display_name": "Python 3",
   "language": "python",
   "name": "python3"
  },
  "language_info": {
   "codemirror_mode": {
    "name": "ipython",
    "version": 3
   },
   "file_extension": ".py",
   "mimetype": "text/x-python",
   "name": "python",
   "nbconvert_exporter": "python",
   "pygments_lexer": "ipython3",
   "version": "3.5.4"
  },
  "toc": {
   "nav_menu": {},
   "number_sections": true,
   "sideBar": true,
   "skip_h1_title": false,
   "toc_cell": false,
   "toc_position": {},
   "toc_section_display": "block",
   "toc_window_display": false
  },
  "varInspector": {
   "cols": {
    "lenName": 16,
    "lenType": 16,
    "lenVar": 40
   },
   "kernels_config": {
    "python": {
     "delete_cmd_postfix": "",
     "delete_cmd_prefix": "del ",
     "library": "var_list.py",
     "varRefreshCmd": "print(var_dic_list())"
    },
    "r": {
     "delete_cmd_postfix": ") ",
     "delete_cmd_prefix": "rm(",
     "library": "var_list.r",
     "varRefreshCmd": "cat(var_dic_list()) "
    }
   },
   "types_to_exclude": [
    "module",
    "function",
    "builtin_function_or_method",
    "instance",
    "_Feature"
   ],
   "window_display": false
  }
 },
 "nbformat": 4,
 "nbformat_minor": 2
}
