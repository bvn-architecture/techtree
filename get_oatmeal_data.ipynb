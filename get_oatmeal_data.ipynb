{
 "cells": [
  {
   "cell_type": "markdown",
   "metadata": {},
   "source": [
    "# Get Data from Airtable\n",
    "\n",
    "This gets the data from the two tables and formats it into dataframes. It's probably not the cleanest thing in the world, but hopefully it'll do for now."
   ]
  },
  {
   "cell_type": "code",
   "execution_count": 53,
   "metadata": {
    "ExecuteTime": {
     "end_time": "2018-06-08T04:25:50.806932Z",
     "start_time": "2018-06-08T04:25:50.800932Z"
    },
    "collapsed": true
   },
   "outputs": [],
   "source": [
    "import ast\n",
    "import pandas as pd\n",
    "import requests\n",
    "from graphviz import Source\n",
    "import textwrap\n",
    "import simplejson"
   ]
  },
  {
   "cell_type": "code",
   "execution_count": 54,
   "metadata": {
    "ExecuteTime": {
     "end_time": "2018-06-08T04:25:50.832932Z",
     "start_time": "2018-06-08T04:25:50.808932Z"
    },
    "collapsed": true
   },
   "outputs": [],
   "source": [
    "def mergeD(ugly_data):\n",
    "    f = ugly_data[\"fields\"]\n",
    "    i = {\"id\": ugly_data[\"id\"]}\n",
    "    f.update(i)\n",
    "    return f\n",
    "\n",
    "def get_table(table_name):\n",
    "    \"\"\" \"\"\"\n",
    "    auth_headers = {'Authorization': 'Bearer keyYXkjYFw61SeWDk'}\n",
    "    table_url = 'https://api.airtable.com/v0/appuaXpFiadmP89sq/' + table_name\n",
    "    r = requests.get(table_url, headers=auth_headers)\n",
    "    d = eval(ast.literal_eval(str(r.content)[1:])) # this is almost certainly not the right way to do this!\n",
    "    \n",
    "    rows = [mergeD(x) for x in d[\"records\"]]\n",
    "    data_frame = pd.DataFrame(rows)\n",
    "    return data_frame"
   ]
  },
  {
   "cell_type": "code",
   "execution_count": 64,
   "metadata": {
    "ExecuteTime": {
     "end_time": "2018-06-08T04:26:33.534932Z",
     "start_time": "2018-06-08T04:26:32.425932Z"
    }
   },
   "outputs": [
    {
     "data": {
      "text/plain": [
       "['digraph G {',\n",
       " ' rankdir  = \"LR\";',\n",
       " ' label    = \"Tech Tree of OATMEAL Projects\";',\n",
       " ' labelloc = \"t\";',\n",
       " ' node [style=filled,',\n",
       " '       color=\"black\", ',\n",
       " '       fontcolor=\"white\", ',\n",
       " '       shape=\"oval\", ',\n",
       " '       fixedsize=true, ',\n",
       " '       width=1,',\n",
       " '       height=1,',\n",
       " '       fontsize=8 ',\n",
       " '      ];',\n",
       " ' edge [arrowhead=vee,',\n",
       " '       arrowsize=0.5]',\n",
       " ' ',\n",
       " ' potPaper [label=\"A Plane of\\nThrones Paper\"];',\n",
       " ' robPaper [label=\"Robotics Papers\"];',\n",
       " ' deskSenseDn [label=\"Below Desk\\nSensing\"];',\n",
       " ' desks [label=\"Unit Desks\"];',\n",
       " ' deskSenseUp [label=\"Above Desk\\nSensing\"];',\n",
       " ' mApp [label=\"Mobile App\"];',\n",
       " ' geoEthno2 [label=\"Geographic/\\nEthnographic\\ndata 2\"];',\n",
       " ' basicBeacon [label=\"iBeacon\\nAwareness\"];',\n",
       " ' sensicorn2 [label=\"Sensicorn 2\"];',\n",
       " ' geoEthno1 [label=\"Geographic/\\nEthnographic\\ndata 1\"];',\n",
       " ' emailData [label=\"Email Data\"];',\n",
       " ' RBTM [label=\"Robotic\\nBuilding\\nTopology\\nModification\"];',\n",
       " ' basicRobot [label=\"Awareness of\\nRobots\"];',\n",
       " ' timeData [label=\"Timesheet Data\"];',\n",
       " ' SNA [label=\"Social Network\\nAnalysis\"];',\n",
       " ' changeSpace [label=\"Change Space\\nCollective\"];',\n",
       " ' robDesk [label=\"Robotic Desk\\nArrangement\"];',\n",
       " ' Shakedown [label=\"Shakedown data\\ncapture\"];',\n",
       " ' SNAawareness [label=\"SNA Awareness\"];',\n",
       " ' phone [label=\"Access To\\nPhones\"];',\n",
       " ' halo [label=\"Robotic Weaving\"];',\n",
       " ' SNAblog [label=\"Social Network\\nAnalysis Blog\\nPost\"];',\n",
       " ' SydStudioSeating [label=\"Sydney Studio\\nSeating\"];',\n",
       " ' revit2ML [label=\"Revit Layout\\nExtraction\"];',\n",
       " ' data [label=\"Data Literacy\"];',\n",
       " ' sensicorn1 [label=\"Sensicorn 1\"];',\n",
       " ' SydStudioSeating2 [label=\"Better Sydney\\nStudio Seating\"];',\n",
       " ' diary [label=\"Diary Studies\"];',\n",
       " ' SLAM [label=\"SLAM\\n(Simultanious\\nLocation And\\nMapping)\"];',\n",
       " ' bravo [label=\"Bravo Victor\\nNovember\"];',\n",
       " ' pot [label=\"A Plane of\\nThrones\\nFramework\"];',\n",
       " ' deskLoc [label=\"Desk Location\"];',\n",
       " ' electron [label=\"Desktop App\"];',\n",
       " ' robSense [label=\"Robot Mounted\\nSensing\"];',\n",
       " ' boom [label=\"Distribution\\nBoom\"];',\n",
       " ' altSpace [label=\"altSpace\"];',\n",
       " ' AIlayout [label=\"AI Layout\"];',\n",
       " ' lAmp [label=\"Learning\\nAmplified\\nSeating Plans\"];',\n",
       " ' bizCap [label=\"Capturing\\nBusiness\\nMetrics\"];',\n",
       " ' loTraining [label=\"Layout Training\\nData\"];',\n",
       " ' cadd [label=\"Continuous\\nAnalysis,\\nDesign &\\nDelivery\"];',\n",
       " ' geoEthno3 [label=\"Geographic/\\nEthnographic\\ndata 3\"];',\n",
       " ' ShakedownPaper [label=\"Shakedown Paper\"];',\n",
       " ' s3 [label=\"S3\"];',\n",
       " ' sensors [label=\"Sensor Literacy\"];',\n",
       " ' pathVis [label=\"Path\\nVisualisation\"];',\n",
       " ' lExp [label=\"Learning\\nExperiment\"];',\n",
       " ' systemReef [label=\"Systems Reef\"];',\n",
       " ' ShakedownBlog [label=\"Shakedown Blog\"];',\n",
       " ' Shakedown2 [label=\"Shakedown (with\\nstalls) Product\"];',\n",
       " ' hardware [label=\"Hardware Design\"];',\n",
       " ' BTARATA [label=\"Buildings That\\nAre Right All\\nThe Time\"];',\n",
       " ' ',\n",
       " ' pot -> potPaper;',\n",
       " ' revit2ML -> potPaper;',\n",
       " ' halo -> robPaper;',\n",
       " ' boom -> desks;',\n",
       " ' halo -> desks;',\n",
       " ' s3 -> deskSenseUp;',\n",
       " ' electron -> deskSenseUp;',\n",
       " ' phone -> mApp;',\n",
       " ' geoEthno1 -> geoEthno2;',\n",
       " ' deskSenseDn -> geoEthno2;',\n",
       " ' sensicorn2 -> geoEthno2;',\n",
       " ' sensicorn1 -> sensicorn2;',\n",
       " ' mApp -> sensicorn2;',\n",
       " ' deskSenseUp -> geoEthno1;',\n",
       " ' diary -> geoEthno1;',\n",
       " ' deskLoc -> geoEthno1;',\n",
       " ' robDesk -> RBTM;',\n",
       " ' timeData -> SNA;',\n",
       " ' emailData -> SNA;',\n",
       " ' SNAawareness -> SNA;',\n",
       " ' geoEthno1 -> changeSpace;',\n",
       " ' AIlayout -> robDesk;',\n",
       " ' lAmp -> robDesk;',\n",
       " ' robSense -> robDesk;',\n",
       " ' sensors -> Shakedown;',\n",
       " ' basicRobot -> halo;',\n",
       " ' systemReef -> halo;',\n",
       " ' SNA -> SNAblog;',\n",
       " ' bravo -> SNAblog;',\n",
       " ' lExp -> SydStudioSeating;',\n",
       " ' deskLoc -> SydStudioSeating;',\n",
       " ' pathVis -> sensicorn1;',\n",
       " ' hardware -> sensicorn1;',\n",
       " ' SydStudioSeating -> SydStudioSeating2;',\n",
       " ' electron -> diary;',\n",
       " ' basicRobot -> SLAM;',\n",
       " ' basicBeacon -> deskLoc;',\n",
       " ' desks -> deskLoc;',\n",
       " ' SLAM -> robSense;',\n",
       " ' sensors -> robSense;',\n",
       " ' systemReef -> boom;',\n",
       " ' geoEthno2 -> altSpace;',\n",
       " ' loTraining -> AIlayout;',\n",
       " ' lExp -> lAmp;',\n",
       " ' SNA -> lAmp;',\n",
       " ' pot -> lAmp;',\n",
       " ' revit2ML -> loTraining;',\n",
       " ' geoEthno3 -> cadd;',\n",
       " ' RBTM -> cadd;',\n",
       " ' bizCap -> cadd;',\n",
       " ' geoEthno2 -> geoEthno3;',\n",
       " ' Shakedown -> ShakedownPaper;',\n",
       " ' hardware -> s3;',\n",
       " ' desks -> s3;',\n",
       " ' sensors -> s3;',\n",
       " ' data -> sensors;',\n",
       " ' Shakedown -> ShakedownBlog;',\n",
       " ' bravo -> ShakedownBlog;',\n",
       " ' Shakedown -> Shakedown2;',\n",
       " ' cadd -> BTARATA;',\n",
       " ' {rank = same; data; basicRobot; hardware; systemReef; SNAawareness}',\n",
       " ' \\n}']"
      ]
     },
     "execution_count": 64,
     "metadata": {},
     "output_type": "execute_result"
    }
   ],
   "source": [
    "project_data = get_table(\"Techs\")\n",
    "project_data.set_index(\"id\", inplace=True)\n",
    "\n",
    "node_description_pattern = \"{name} [label=\\\"{longName}\\\"];\"\n",
    "edge_pattern = \"{from_node} -> {to_node};\"\n",
    "\n",
    "node_descriptions = []\n",
    "edges = []\n",
    "for i, row in project_data.iterrows():\n",
    "    try:\n",
    "#         ln = textwrap.fill(row[\"LongName\"], 21)\n",
    "        ln = \"\\n\".join( textwrap.wrap(row[\"LongName\"], 15))\n",
    "    except Exception as e:\n",
    "        ln = row[\"LongName\"]\n",
    "    n = node_description_pattern.format(name=row[\"Name\"], longName=ln)\n",
    "    node_descriptions.append(n)\n",
    "    if type(row[\"precursors\"]) is not float: # nothing reads as NaN, therefore float\n",
    "        precursors = row[\"precursors\"]#.split(\",\")\n",
    "        for precursor in precursors:\n",
    "            e = edge_pattern.format(from_node=project_data.loc[precursor].Name,\n",
    "                                    to_node=row[\"Name\"])\n",
    "            edges.append(e)\n",
    "\n",
    "g = \"\"\"digraph G {{\n",
    "  rankdir  = \"LR\";\n",
    "  label    = \"Tech Tree of OATMEAL Projects\";\n",
    "  labelloc = \"t\";\n",
    "  node [style=filled,\n",
    "        color=\"black\", \n",
    "        fontcolor=\"white\", \n",
    "        shape=\"oval\", \n",
    "        fixedsize=true, \n",
    "        width=1,\n",
    "        height=1,\n",
    "        fontsize=8 \n",
    "       ];\n",
    "  edge [arrowhead=vee,\n",
    "        arrowsize=0.5]\n",
    "  \n",
    "  {nodes}\n",
    "  \n",
    "  {edges}\n",
    "  {{rank = same; data; basicRobot; hardware; systemReef; SNAawareness}}\n",
    "  \n",
    "}}\"\"\".format(edges=\"\\n  \".join(edges), nodes=\"\\n  \".join(node_descriptions))\n",
    "\n",
    "\n",
    "# print(g)\n",
    "g.split(\"\\n \")\n",
    "\n",
    "\"\"\"var digraph_details = {};\n",
    "\n",
    "digraph_details =  digraph_details.join(\"\\n\");\"\"\""
   ]
  },
  {
   "cell_type": "code",
   "execution_count": 65,
   "metadata": {
    "ExecuteTime": {
     "end_time": "2018-06-08T04:26:36.786932Z",
     "start_time": "2018-06-08T04:26:36.760932Z"
    },
    "collapsed": true
   },
   "outputs": [],
   "source": [
    "# make the dictionary have the project name as a key, instead of bing a list of independent dicts\n",
    "simple_dict = project_data.to_dict(orient=\"records\")\n",
    "new_dict = {}\n",
    "for row in simple_dict:\n",
    "    new_dict[row[\"Name\"]] = row\n",
    "\n",
    "with open('parallelData.js', 'w') as f:\n",
    "    j = simplejson.dumps(new_dict, ignore_nan=True, sort_keys=True, indent=2)\n",
    "    f.write(\"var parallelData = {json};\".format(json=j))"
   ]
  },
  {
   "cell_type": "code",
   "execution_count": 57,
   "metadata": {
    "ExecuteTime": {
     "end_time": "2018-06-08T04:25:52.042932Z",
     "start_time": "2018-06-08T04:25:52.027932Z"
    },
    "collapsed": true
   },
   "outputs": [],
   "source": [
    "def get_thumb(row):\n",
    "    try:\n",
    "        h = row[\"Headshot\"]\n",
    "        if type(h) is not float:\n",
    "            # TODO: make this check for small as well\n",
    "            x = list(h)\n",
    "            return x[0]['thumbnails'][\"large\"][\"url\"]\n",
    "        else:\n",
    "            return \"http://getdrawings.com/images/casper-drawing-8.jpg\"\n",
    "    except Exception as e:\n",
    "        print(e)\n",
    "        return \"http://getdrawings.com/images/casper-drawing-8.jpg\"\n"
   ]
  },
  {
   "cell_type": "code",
   "execution_count": 58,
   "metadata": {
    "ExecuteTime": {
     "end_time": "2018-06-08T04:25:53.026932Z",
     "start_time": "2018-06-08T04:25:52.045932Z"
    }
   },
   "outputs": [
    {
     "data": {
      "text/html": [
       "<div>\n",
       "<style>\n",
       "    .dataframe thead tr:only-child th {\n",
       "        text-align: right;\n",
       "    }\n",
       "\n",
       "    .dataframe thead th {\n",
       "        text-align: left;\n",
       "    }\n",
       "\n",
       "    .dataframe tbody tr th {\n",
       "        vertical-align: top;\n",
       "    }\n",
       "</style>\n",
       "<table border=\"1\" class=\"dataframe\">\n",
       "  <thead>\n",
       "    <tr style=\"text-align: right;\">\n",
       "      <th></th>\n",
       "      <th>Headshot</th>\n",
       "      <th>Initials</th>\n",
       "      <th>Name</th>\n",
       "      <th>Notes</th>\n",
       "      <th>Techs</th>\n",
       "      <th>id</th>\n",
       "      <th>thumb_large</th>\n",
       "    </tr>\n",
       "  </thead>\n",
       "  <tbody>\n",
       "    <tr>\n",
       "      <th>0</th>\n",
       "      <td>[{'thumbnails': {'large': {'height': 500, 'url...</td>\n",
       "      <td>KM</td>\n",
       "      <td>Kevin M</td>\n",
       "      <td>NaN</td>\n",
       "      <td>[recnXgQGgzh4q3t9M]</td>\n",
       "      <td>rec0dpxUhHfgHWU7r</td>\n",
       "      <td>https://dl.airtable.com/6ax7C3bmSUWbWYULMZsZ_l...</td>\n",
       "    </tr>\n",
       "    <tr>\n",
       "      <th>1</th>\n",
       "      <td>[{'thumbnails': {'large': {'height': 500, 'url...</td>\n",
       "      <td>ARR</td>\n",
       "      <td>Annisa</td>\n",
       "      <td>NaN</td>\n",
       "      <td>[recru4UXYdMmO7sX8]</td>\n",
       "      <td>rec3HypnJiuTkeVBJ</td>\n",
       "      <td>https://dl.airtable.com/JgeHAo9xSGmjVWy0FtXS_l...</td>\n",
       "    </tr>\n",
       "    <tr>\n",
       "      <th>2</th>\n",
       "      <td>[{'thumbnails': {'large': {'height': 512, 'url...</td>\n",
       "      <td>--</td>\n",
       "      <td>nobodyAssigned</td>\n",
       "      <td>This is who'll be assigned automagically if no...</td>\n",
       "      <td>NaN</td>\n",
       "      <td>recF9tgC6LJUmi5gJ</td>\n",
       "      <td>https://dl.airtable.com/JDhVYh9SAOPYoIBE6ipb_l...</td>\n",
       "    </tr>\n",
       "    <tr>\n",
       "      <th>3</th>\n",
       "      <td>[{'thumbnails': {'large': {'height': 500, 'url...</td>\n",
       "      <td>BaD</td>\n",
       "      <td>Barry D</td>\n",
       "      <td>NaN</td>\n",
       "      <td>NaN</td>\n",
       "      <td>recFKWrjwOUM5oWxI</td>\n",
       "      <td>https://dl.airtable.com/4NWLSnTFRwSfdFDBAt9A_l...</td>\n",
       "    </tr>\n",
       "    <tr>\n",
       "      <th>4</th>\n",
       "      <td>NaN</td>\n",
       "      <td>RX</td>\n",
       "      <td>AI Richard</td>\n",
       "      <td>NaN</td>\n",
       "      <td>NaN</td>\n",
       "      <td>recFUgthTUYQnR7Mz</td>\n",
       "      <td>http://getdrawings.com/images/casper-drawing-8...</td>\n",
       "    </tr>\n",
       "    <tr>\n",
       "      <th>5</th>\n",
       "      <td>[{'thumbnails': {'large': {'height': 500, 'url...</td>\n",
       "      <td>NT</td>\n",
       "      <td>Ninotschka</td>\n",
       "      <td>NaN</td>\n",
       "      <td>[rec0tbY526abDXcRr]</td>\n",
       "      <td>recHLT6IoCZXwwtp3</td>\n",
       "      <td>https://dl.airtable.com/n5K9IIPLSEiPPcY8qKCG_l...</td>\n",
       "    </tr>\n",
       "    <tr>\n",
       "      <th>6</th>\n",
       "      <td>[{'thumbnails': {'large': {'height': 500, 'url...</td>\n",
       "      <td>BiD</td>\n",
       "      <td>Bill</td>\n",
       "      <td>NaN</td>\n",
       "      <td>[recmNHHmIUj4nPild, recHpePW60ZlXrLKY]</td>\n",
       "      <td>recHN7P3Wz3YGdAN2</td>\n",
       "      <td>https://dl.airtable.com/nestrTYmQqT79f6rfpHQ_l...</td>\n",
       "    </tr>\n",
       "    <tr>\n",
       "      <th>7</th>\n",
       "      <td>[{'thumbnails': {'large': {'height': 500, 'url...</td>\n",
       "      <td>BC</td>\n",
       "      <td>Barry C</td>\n",
       "      <td>NaN</td>\n",
       "      <td>[recqsdnZyKEXLlafN]</td>\n",
       "      <td>recMZdSRhVMMJQcOb</td>\n",
       "      <td>https://dl.airtable.com/tEyLZYnrSSaN4Ikic0k5_l...</td>\n",
       "    </tr>\n",
       "    <tr>\n",
       "      <th>8</th>\n",
       "      <td>[{'thumbnails': {'large': {'height': 683, 'url...</td>\n",
       "      <td>BeD</td>\n",
       "      <td>Ben</td>\n",
       "      <td>NaN</td>\n",
       "      <td>[reccHCPeML8SyRFTp, rec5v7YBAh4XzeOQ7, recSIIp...</td>\n",
       "      <td>rece9qyNSfMqAhZAL</td>\n",
       "      <td>https://dl.airtable.com/nUBlmdvR1iLT0mCbllA1_l...</td>\n",
       "    </tr>\n",
       "    <tr>\n",
       "      <th>9</th>\n",
       "      <td>[{'thumbnails': {'large': {'height': 831, 'url...</td>\n",
       "      <td>IV</td>\n",
       "      <td>Ishaan</td>\n",
       "      <td>NaN</td>\n",
       "      <td>[recCdV0IBu62AhiOt, recmjo5fVtiAflmvo, recflCm...</td>\n",
       "      <td>recgcDkgKvrBLH1k0</td>\n",
       "      <td>https://dl.airtable.com/hI2scvcS1WedienZx2uw_l...</td>\n",
       "    </tr>\n",
       "    <tr>\n",
       "      <th>10</th>\n",
       "      <td>[{'thumbnails': {'large': {'height': 50, 'url'...</td>\n",
       "      <td>AR</td>\n",
       "      <td>Aiden</td>\n",
       "      <td>NaN</td>\n",
       "      <td>[rec5v7YBAh4XzeOQ7, rec2musyOg3qL274O, reczMCu...</td>\n",
       "      <td>recj2rmnndUmxB3Dt</td>\n",
       "      <td>https://dl.airtable.com/wNAkSR0RUlLTf8AMRYJA_l...</td>\n",
       "    </tr>\n",
       "    <tr>\n",
       "      <th>11</th>\n",
       "      <td>[{'thumbnails': {'large': {'height': 740, 'url...</td>\n",
       "      <td>SF</td>\n",
       "      <td>Shawnee</td>\n",
       "      <td>NaN</td>\n",
       "      <td>[recmUQLIxzr2wiyzd]</td>\n",
       "      <td>recjdvfsS0ZXESR2L</td>\n",
       "      <td>https://dl.airtable.com/QwBnkwoAT86QmEXcI58t_l...</td>\n",
       "    </tr>\n",
       "    <tr>\n",
       "      <th>12</th>\n",
       "      <td>[{'thumbnails': {'large': {'height': 500, 'url...</td>\n",
       "      <td>CB</td>\n",
       "      <td>Chris B</td>\n",
       "      <td>NaN</td>\n",
       "      <td>[rectkEzpAV9fxHPwS]</td>\n",
       "      <td>reck4uCQdMmA9Dy0e</td>\n",
       "      <td>https://dl.airtable.com/1ocVojsCTZJYDRTtp7kI_l...</td>\n",
       "    </tr>\n",
       "    <tr>\n",
       "      <th>13</th>\n",
       "      <td>[{'thumbnails': {'large': {'height': 687, 'url...</td>\n",
       "      <td>BH</td>\n",
       "      <td>Baptiste</td>\n",
       "      <td>NaN</td>\n",
       "      <td>[rec5v7YBAh4XzeOQ7]</td>\n",
       "      <td>recuFyI25ChOwWWhr</td>\n",
       "      <td>https://dl.airtable.com/FRJXAfziQn226JiBopNq_l...</td>\n",
       "    </tr>\n",
       "    <tr>\n",
       "      <th>14</th>\n",
       "      <td>[{'thumbnails': {'large': {'height': 500, 'url...</td>\n",
       "      <td>MB</td>\n",
       "      <td>Matthew</td>\n",
       "      <td>NaN</td>\n",
       "      <td>NaN</td>\n",
       "      <td>recwl2PnrQ8ueQBQ7</td>\n",
       "      <td>https://dl.airtable.com/yXqIqKWoQcWED51FYjOO_l...</td>\n",
       "    </tr>\n",
       "  </tbody>\n",
       "</table>\n",
       "</div>"
      ],
      "text/plain": [
       "                                             Headshot Initials  \\\n",
       "0   [{'thumbnails': {'large': {'height': 500, 'url...       KM   \n",
       "1   [{'thumbnails': {'large': {'height': 500, 'url...      ARR   \n",
       "2   [{'thumbnails': {'large': {'height': 512, 'url...       --   \n",
       "3   [{'thumbnails': {'large': {'height': 500, 'url...      BaD   \n",
       "4                                                 NaN       RX   \n",
       "5   [{'thumbnails': {'large': {'height': 500, 'url...       NT   \n",
       "6   [{'thumbnails': {'large': {'height': 500, 'url...      BiD   \n",
       "7   [{'thumbnails': {'large': {'height': 500, 'url...       BC   \n",
       "8   [{'thumbnails': {'large': {'height': 683, 'url...      BeD   \n",
       "9   [{'thumbnails': {'large': {'height': 831, 'url...       IV   \n",
       "10  [{'thumbnails': {'large': {'height': 50, 'url'...       AR   \n",
       "11  [{'thumbnails': {'large': {'height': 740, 'url...       SF   \n",
       "12  [{'thumbnails': {'large': {'height': 500, 'url...       CB   \n",
       "13  [{'thumbnails': {'large': {'height': 687, 'url...       BH   \n",
       "14  [{'thumbnails': {'large': {'height': 500, 'url...       MB   \n",
       "\n",
       "              Name                                              Notes  \\\n",
       "0          Kevin M                                                NaN   \n",
       "1           Annisa                                                NaN   \n",
       "2   nobodyAssigned  This is who'll be assigned automagically if no...   \n",
       "3          Barry D                                                NaN   \n",
       "4       AI Richard                                                NaN   \n",
       "5       Ninotschka                                                NaN   \n",
       "6             Bill                                                NaN   \n",
       "7          Barry C                                                NaN   \n",
       "8              Ben                                                NaN   \n",
       "9           Ishaan                                                NaN   \n",
       "10           Aiden                                                NaN   \n",
       "11         Shawnee                                                NaN   \n",
       "12         Chris B                                                NaN   \n",
       "13        Baptiste                                                NaN   \n",
       "14         Matthew                                                NaN   \n",
       "\n",
       "                                                Techs                 id  \\\n",
       "0                                 [recnXgQGgzh4q3t9M]  rec0dpxUhHfgHWU7r   \n",
       "1                                 [recru4UXYdMmO7sX8]  rec3HypnJiuTkeVBJ   \n",
       "2                                                 NaN  recF9tgC6LJUmi5gJ   \n",
       "3                                                 NaN  recFKWrjwOUM5oWxI   \n",
       "4                                                 NaN  recFUgthTUYQnR7Mz   \n",
       "5                                 [rec0tbY526abDXcRr]  recHLT6IoCZXwwtp3   \n",
       "6              [recmNHHmIUj4nPild, recHpePW60ZlXrLKY]  recHN7P3Wz3YGdAN2   \n",
       "7                                 [recqsdnZyKEXLlafN]  recMZdSRhVMMJQcOb   \n",
       "8   [reccHCPeML8SyRFTp, rec5v7YBAh4XzeOQ7, recSIIp...  rece9qyNSfMqAhZAL   \n",
       "9   [recCdV0IBu62AhiOt, recmjo5fVtiAflmvo, recflCm...  recgcDkgKvrBLH1k0   \n",
       "10  [rec5v7YBAh4XzeOQ7, rec2musyOg3qL274O, reczMCu...  recj2rmnndUmxB3Dt   \n",
       "11                                [recmUQLIxzr2wiyzd]  recjdvfsS0ZXESR2L   \n",
       "12                                [rectkEzpAV9fxHPwS]  reck4uCQdMmA9Dy0e   \n",
       "13                                [rec5v7YBAh4XzeOQ7]  recuFyI25ChOwWWhr   \n",
       "14                                                NaN  recwl2PnrQ8ueQBQ7   \n",
       "\n",
       "                                          thumb_large  \n",
       "0   https://dl.airtable.com/6ax7C3bmSUWbWYULMZsZ_l...  \n",
       "1   https://dl.airtable.com/JgeHAo9xSGmjVWy0FtXS_l...  \n",
       "2   https://dl.airtable.com/JDhVYh9SAOPYoIBE6ipb_l...  \n",
       "3   https://dl.airtable.com/4NWLSnTFRwSfdFDBAt9A_l...  \n",
       "4   http://getdrawings.com/images/casper-drawing-8...  \n",
       "5   https://dl.airtable.com/n5K9IIPLSEiPPcY8qKCG_l...  \n",
       "6   https://dl.airtable.com/nestrTYmQqT79f6rfpHQ_l...  \n",
       "7   https://dl.airtable.com/tEyLZYnrSSaN4Ikic0k5_l...  \n",
       "8   https://dl.airtable.com/nUBlmdvR1iLT0mCbllA1_l...  \n",
       "9   https://dl.airtable.com/hI2scvcS1WedienZx2uw_l...  \n",
       "10  https://dl.airtable.com/wNAkSR0RUlLTf8AMRYJA_l...  \n",
       "11  https://dl.airtable.com/QwBnkwoAT86QmEXcI58t_l...  \n",
       "12  https://dl.airtable.com/1ocVojsCTZJYDRTtp7kI_l...  \n",
       "13  https://dl.airtable.com/FRJXAfziQn226JiBopNq_l...  \n",
       "14  https://dl.airtable.com/yXqIqKWoQcWED51FYjOO_l...  "
      ]
     },
     "execution_count": 58,
     "metadata": {},
     "output_type": "execute_result"
    }
   ],
   "source": [
    "\n",
    "people_data = get_table(\"People\")\n",
    "people_data[\"thumb_large\"] = people_data.apply(get_thumb, axis=1)\n",
    "people_data"
   ]
  },
  {
   "cell_type": "code",
   "execution_count": 59,
   "metadata": {
    "ExecuteTime": {
     "end_time": "2018-06-08T04:25:53.055932Z",
     "start_time": "2018-06-08T04:25:53.029932Z"
    }
   },
   "outputs": [],
   "source": [
    "# make the dictionary have the project name as a key, instead of bing a list of independent dicts\n",
    "simple_people_dict = people_data.to_dict(orient=\"records\")\n",
    "new_p_dict = {}\n",
    "for row in simple_people_dict:\n",
    "    new_p_dict[row[\"id\"]] = row\n",
    "    \n",
    "new_p_dict\n",
    "\n",
    "\n",
    "with open('peopleData.js', 'w') as f:\n",
    "    j = simplejson.dumps(new_p_dict, ignore_nan=True, sort_keys=True, indent=2)\n",
    "    f.write(\"var peopleData = {json};\".format(json=j))"
   ]
  },
  {
   "cell_type": "markdown",
   "metadata": {},
   "source": [
    "Aiming for something that looks a bit like this:\n",
    "![](https://lh3.googleusercontent.com/xm3KUhGDiEDbr5v9jnlTv3kqqBDbTXP497VxE2otSsmHMpdDi5kBZaBnCnWCzknNFZynJw91wm8fRoOS_VqJCuQOA_4dCXYrqkIQG_YHMwmuNsqiPBJnAVRu1e1ZMvywiw9JkQDkCJM=w1430-h1015-no)\n",
    "So we need these bits of information:"
   ]
  },
  {
   "cell_type": "code",
   "execution_count": 60,
   "metadata": {
    "ExecuteTime": {
     "end_time": "2018-06-08T04:25:53.082932Z",
     "start_time": "2018-06-08T04:25:53.057932Z"
    }
   },
   "outputs": [
    {
     "name": "stdout",
     "output_type": "stream",
     "text": [
      "id\n",
      "rec5v7YBAh4XzeOQ7    Above Desk Sensing\n",
      "Name: LongName, dtype: object\n"
     ]
    },
    {
     "data": {
      "text/html": [
       "<div>\n",
       "<style>\n",
       "    .dataframe thead tr:only-child th {\n",
       "        text-align: right;\n",
       "    }\n",
       "\n",
       "    .dataframe thead th {\n",
       "        text-align: left;\n",
       "    }\n",
       "\n",
       "    .dataframe tbody tr th {\n",
       "        vertical-align: top;\n",
       "    }\n",
       "</style>\n",
       "<table border=\"1\" class=\"dataframe\">\n",
       "  <thead>\n",
       "    <tr style=\"text-align: right;\">\n",
       "      <th></th>\n",
       "      <th>LongName</th>\n",
       "      <th>Name</th>\n",
       "      <th>Other_people_involved</th>\n",
       "      <th>Owner</th>\n",
       "      <th>Type</th>\n",
       "      <th>percentComplete</th>\n",
       "      <th>precursors</th>\n",
       "    </tr>\n",
       "    <tr>\n",
       "      <th>id</th>\n",
       "      <th></th>\n",
       "      <th></th>\n",
       "      <th></th>\n",
       "      <th></th>\n",
       "      <th></th>\n",
       "      <th></th>\n",
       "      <th></th>\n",
       "    </tr>\n",
       "  </thead>\n",
       "  <tbody>\n",
       "    <tr>\n",
       "      <th>rec5v7YBAh4XzeOQ7</th>\n",
       "      <td>Above Desk Sensing</td>\n",
       "      <td>deskSenseUp</td>\n",
       "      <td>[recuFyI25ChOwWWhr, rece9qyNSfMqAhZAL]</td>\n",
       "      <td>[recj2rmnndUmxB3Dt]</td>\n",
       "      <td>Project</td>\n",
       "      <td>50</td>\n",
       "      <td>[recqsdnZyKEXLlafN, rechAwGrx1K8hAmTi]</td>\n",
       "    </tr>\n",
       "  </tbody>\n",
       "</table>\n",
       "</div>"
      ],
      "text/plain": [
       "                             LongName         Name  \\\n",
       "id                                                   \n",
       "rec5v7YBAh4XzeOQ7  Above Desk Sensing  deskSenseUp   \n",
       "\n",
       "                                    Other_people_involved  \\\n",
       "id                                                          \n",
       "rec5v7YBAh4XzeOQ7  [recuFyI25ChOwWWhr, rece9qyNSfMqAhZAL]   \n",
       "\n",
       "                                 Owner     Type  percentComplete  \\\n",
       "id                                                                 \n",
       "rec5v7YBAh4XzeOQ7  [recj2rmnndUmxB3Dt]  Project               50   \n",
       "\n",
       "                                               precursors  \n",
       "id                                                         \n",
       "rec5v7YBAh4XzeOQ7  [recqsdnZyKEXLlafN, rechAwGrx1K8hAmTi]  "
      ]
     },
     "execution_count": 60,
     "metadata": {},
     "output_type": "execute_result"
    }
   ],
   "source": [
    "this_project = project_data[project_data.Name == \"deskSenseUp\"] # \"AIlayout\" for my face\n",
    "print(this_project.LongName)\n",
    "owner = list(this_project.Owner)[0][0]\n",
    "this_project"
   ]
  },
  {
   "cell_type": "code",
   "execution_count": 61,
   "metadata": {
    "ExecuteTime": {
     "end_time": "2018-06-08T04:25:53.093932Z",
     "start_time": "2018-06-08T04:25:53.085932Z"
    }
   },
   "outputs": [
    {
     "data": {
      "text/plain": [
       "['https://dl.airtable.com/wNAkSR0RUlLTf8AMRYJA_large_50.png']"
      ]
     },
     "execution_count": 61,
     "metadata": {},
     "output_type": "execute_result"
    }
   ],
   "source": [
    "list(people_data[people_data.id == owner].thumb_large)"
   ]
  },
  {
   "cell_type": "code",
   "execution_count": 62,
   "metadata": {
    "ExecuteTime": {
     "end_time": "2018-06-08T04:25:53.117932Z",
     "start_time": "2018-06-08T04:25:53.096932Z"
    }
   },
   "outputs": [
    {
     "name": "stdout",
     "output_type": "stream",
     "text": [
      "recuFyI25ChOwWWhr Baptiste https://dl.airtable.com/FRJXAfziQn226JiBopNq_large_20171005_171412_resized.jpg\n"
     ]
    },
    {
     "data": {
      "text/plain": [
       "'https://dl.airtable.com/FRJXAfziQn226JiBopNq_large_20171005_171412_resized.jpg'"
      ]
     },
     "metadata": {},
     "output_type": "display_data"
    },
    {
     "name": "stdout",
     "output_type": "stream",
     "text": [
      "rece9qyNSfMqAhZAL Ben https://dl.airtable.com/nUBlmdvR1iLT0mCbllA1_large_MVIMG_20180224_173642.jpg\n"
     ]
    },
    {
     "data": {
      "text/plain": [
       "'https://dl.airtable.com/nUBlmdvR1iLT0mCbllA1_large_MVIMG_20180224_173642.jpg'"
      ]
     },
     "metadata": {},
     "output_type": "display_data"
    }
   ],
   "source": [
    "from IPython.display import Image\n",
    "from IPython import display\n",
    "\n",
    "halpers = this_project.Other_people_involved.values[0]\n",
    "for h in halpers:\n",
    "    row = people_data[people_data.id == h]\n",
    "    print(h, row.Name.values[0], row.thumb_large.values[0])\n",
    "    display.display(row.thumb_large.values[0])\n",
    "#     Image()"
   ]
  },
  {
   "cell_type": "code",
   "execution_count": 63,
   "metadata": {
    "ExecuteTime": {
     "end_time": "2018-06-08T04:25:53.132932Z",
     "start_time": "2018-06-08T04:25:53.120932Z"
    }
   },
   "outputs": [
    {
     "data": {
      "text/plain": [
       "50"
      ]
     },
     "execution_count": 63,
     "metadata": {},
     "output_type": "execute_result"
    }
   ],
   "source": [
    "#now this is ready to drive the progress ring\n",
    "list(this_project.percentComplete)[0]#.replace(\"%\", \"\")"
   ]
  },
  {
   "cell_type": "code",
   "execution_count": null,
   "metadata": {
    "ExecuteTime": {
     "end_time": "2018-05-31T06:51:19.346882Z",
     "start_time": "2018-05-31T06:51:15.640Z"
    },
    "collapsed": true
   },
   "outputs": [],
   "source": []
  },
  {
   "cell_type": "markdown",
   "metadata": {
    "ExecuteTime": {
     "end_time": "2018-05-30T07:34:48.821436Z",
     "start_time": "2018-05-30T07:34:48.772431Z"
    }
   },
   "source": [
    "![](https://dl.airtable.com/vao3Ge65RXuQs17gLU4p_small_MVIMG_20180224_173642.jpg)"
   ]
  }
 ],
 "metadata": {
  "kernelspec": {
   "display_name": "Python 3",
   "language": "python",
   "name": "python3"
  },
  "language_info": {
   "codemirror_mode": {
    "name": "ipython",
    "version": 3
   },
   "file_extension": ".py",
   "mimetype": "text/x-python",
   "name": "python",
   "nbconvert_exporter": "python",
   "pygments_lexer": "ipython3",
   "version": "3.5.4"
  },
  "toc": {
   "nav_menu": {},
   "number_sections": true,
   "sideBar": true,
   "skip_h1_title": false,
   "toc_cell": false,
   "toc_position": {},
   "toc_section_display": "block",
   "toc_window_display": false
  },
  "varInspector": {
   "cols": {
    "lenName": 16,
    "lenType": 16,
    "lenVar": 40
   },
   "kernels_config": {
    "python": {
     "delete_cmd_postfix": "",
     "delete_cmd_prefix": "del ",
     "library": "var_list.py",
     "varRefreshCmd": "print(var_dic_list())"
    },
    "r": {
     "delete_cmd_postfix": ") ",
     "delete_cmd_prefix": "rm(",
     "library": "var_list.r",
     "varRefreshCmd": "cat(var_dic_list()) "
    }
   },
   "types_to_exclude": [
    "module",
    "function",
    "builtin_function_or_method",
    "instance",
    "_Feature"
   ],
   "window_display": false
  }
 },
 "nbformat": 4,
 "nbformat_minor": 2
}
