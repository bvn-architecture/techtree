{
 "cells": [
  {
   "cell_type": "markdown",
   "metadata": {},
   "source": [
    "# Get Data from Airtable\n",
    "\n",
    "This gets the data from the two tables and formats it into dataframes. It's probably not the cleanest thing in the world, but hopefully it'll do for now."
   ]
  },
  {
   "cell_type": "code",
   "execution_count": 77,
   "metadata": {
    "ExecuteTime": {
     "end_time": "2018-06-08T06:49:47.964932Z",
     "start_time": "2018-06-08T06:49:47.955932Z"
    },
    "collapsed": true
   },
   "outputs": [],
   "source": [
    "import ast\n",
    "import pandas as pd\n",
    "import requests\n",
    "from graphviz import Source\n",
    "import textwrap\n",
    "import simplejson"
   ]
  },
  {
   "cell_type": "code",
   "execution_count": 78,
   "metadata": {
    "ExecuteTime": {
     "end_time": "2018-06-08T06:49:47.995932Z",
     "start_time": "2018-06-08T06:49:47.968932Z"
    },
    "collapsed": true
   },
   "outputs": [],
   "source": [
    "def mergeD(ugly_data):\n",
    "    f = ugly_data[\"fields\"]\n",
    "    i = {\"id\": ugly_data[\"id\"]}\n",
    "    f.update(i)\n",
    "    return f\n",
    "\n",
    "def get_table(table_name):\n",
    "    \"\"\" \"\"\"\n",
    "    auth_headers = {'Authorization': 'Bearer keyYXkjYFw61SeWDk'}\n",
    "    table_url = 'https://api.airtable.com/v0/appuaXpFiadmP89sq/' + table_name\n",
    "    r = requests.get(table_url, headers=auth_headers)\n",
    "    d = eval(ast.literal_eval(str(r.content)[1:])) # this is almost certainly not the right way to do this!\n",
    "    \n",
    "    rows = [mergeD(x) for x in d[\"records\"]]\n",
    "    data_frame = pd.DataFrame(rows)\n",
    "    return data_frame"
   ]
  },
  {
   "cell_type": "code",
   "execution_count": 88,
   "metadata": {
    "ExecuteTime": {
     "end_time": "2018-06-08T06:58:07.111932Z",
     "start_time": "2018-06-08T06:58:05.710932Z"
    }
   },
   "outputs": [],
   "source": [
    "project_data = get_table(\"Techs\")\n",
    "project_data.set_index(\"id\", inplace=True)\n",
    "\n",
    "node_description_pattern = \"{name} [label=\\\"{longName}\\\"];\"\n",
    "edge_pattern = \"{from_node} -> {to_node};\"\n",
    "\n",
    "node_descriptions = []\n",
    "edges = []\n",
    "for i, row in project_data.iterrows():\n",
    "    try:\n",
    "#         ln = textwrap.fill(row[\"LongName\"], 21)\n",
    "        ln = \"\\n\".join( textwrap.wrap(row[\"LongName\"], 15))\n",
    "    except Exception as e:\n",
    "        ln = row[\"LongName\"]\n",
    "    n = node_description_pattern.format(name=row[\"Name\"], longName=ln)\n",
    "    node_descriptions.append(n)\n",
    "    if type(row[\"precursors\"]) is not float: # nothing reads as NaN, therefore float\n",
    "        precursors = row[\"precursors\"]#.split(\",\")\n",
    "        for precursor in precursors:\n",
    "            e = edge_pattern.format(from_node=project_data.loc[precursor].Name,\n",
    "                                    to_node=row[\"Name\"])\n",
    "            edges.append(e)\n",
    "\n",
    "g = \"\"\"digraph G {{\n",
    "  rankdir  = \"LR\";\n",
    "  label    = \"Tech Tree of OATMEAL Projects\";\n",
    "  labelloc = \"t\";\n",
    "  node [style=filled,\n",
    "        color=\"black\", \n",
    "        fontcolor=\"white\", \n",
    "        shape=\"oval\", \n",
    "        fixedsize=true, \n",
    "        width=1,\n",
    "        height=1,\n",
    "        fontsize=8 \n",
    "       ];\n",
    "  edge [arrowhead=vee,\n",
    "        arrowsize=0.5]\n",
    "  \n",
    "  {nodes}\n",
    "  \n",
    "  {edges}\n",
    "  {{rank = same; data; basicRobot; hardware; systemReef; SNAawareness}}\n",
    "  \n",
    "}}\"\"\".format(edges=\"\\n  \".join(edges), nodes=\"\\n  \".join(node_descriptions))\n",
    "\n",
    "\n",
    "# print(g)\n",
    "g_lines = g.split(\"\\n \")\n",
    "\n",
    "digraph_js = \"\"\"var digraph_details = {lines};\n",
    "\n",
    "  digraph_details =  digraph_details.join(\"\\\\n\");\n",
    "  \n",
    "\"\"\".format(lines=g_lines)\n",
    "\n",
    "with open('digraph.js', 'w') as f:\n",
    "    f.write(digraph_js)"
   ]
  },
  {
   "cell_type": "code",
   "execution_count": 80,
   "metadata": {
    "ExecuteTime": {
     "end_time": "2018-06-08T06:49:49.163932Z",
     "start_time": "2018-06-08T06:49:49.135932Z"
    },
    "collapsed": true
   },
   "outputs": [],
   "source": [
    "# make the dictionary have the project name as a key, instead of bing a list of independent dicts\n",
    "simple_dict = project_data.to_dict(orient=\"records\")\n",
    "new_dict = {}\n",
    "for row in simple_dict:\n",
    "    new_dict[row[\"Name\"]] = row\n",
    "\n",
    "with open('parallelData.js', 'w') as f:\n",
    "    j = simplejson.dumps(new_dict, ignore_nan=True, sort_keys=True, indent=2)\n",
    "    f.write(\"var parallelData = {json};\".format(json=j))"
   ]
  },
  {
   "cell_type": "code",
   "execution_count": 81,
   "metadata": {
    "ExecuteTime": {
     "end_time": "2018-06-08T06:49:49.181932Z",
     "start_time": "2018-06-08T06:49:49.166932Z"
    },
    "collapsed": true
   },
   "outputs": [],
   "source": [
    "def get_thumb(row):\n",
    "    try:\n",
    "        h = row[\"Headshot\"]\n",
    "        if type(h) is not float:\n",
    "            # TODO: make this check for small as well\n",
    "            x = list(h)\n",
    "            return x[0]['thumbnails'][\"large\"][\"url\"]\n",
    "        else:\n",
    "            return \"http://getdrawings.com/images/casper-drawing-8.jpg\"\n",
    "    except Exception as e:\n",
    "        print(e)\n",
    "        return \"http://getdrawings.com/images/casper-drawing-8.jpg\"\n"
   ]
  },
  {
   "cell_type": "code",
   "execution_count": 84,
   "metadata": {
    "ExecuteTime": {
     "end_time": "2018-06-08T06:50:51.571932Z",
     "start_time": "2018-06-08T06:50:50.562932Z"
    }
   },
   "outputs": [
    {
     "data": {
      "text/html": [
       "<div>\n",
       "<style>\n",
       "    .dataframe thead tr:only-child th {\n",
       "        text-align: right;\n",
       "    }\n",
       "\n",
       "    .dataframe thead th {\n",
       "        text-align: left;\n",
       "    }\n",
       "\n",
       "    .dataframe tbody tr th {\n",
       "        vertical-align: top;\n",
       "    }\n",
       "</style>\n",
       "<table border=\"1\" class=\"dataframe\">\n",
       "  <thead>\n",
       "    <tr style=\"text-align: right;\">\n",
       "      <th></th>\n",
       "      <th>Headshot</th>\n",
       "      <th>Initials</th>\n",
       "      <th>Name</th>\n",
       "      <th>Notes</th>\n",
       "      <th>Techs</th>\n",
       "      <th>id</th>\n",
       "      <th>thumb_large</th>\n",
       "    </tr>\n",
       "  </thead>\n",
       "  <tbody>\n",
       "    <tr>\n",
       "      <th>4</th>\n",
       "      <td>NaN</td>\n",
       "      <td>RX</td>\n",
       "      <td>AI Richard</td>\n",
       "      <td>NaN</td>\n",
       "      <td>NaN</td>\n",
       "      <td>recFUgthTUYQnR7Mz</td>\n",
       "      <td>http://getdrawings.com/images/casper-drawing-8...</td>\n",
       "    </tr>\n",
       "    <tr>\n",
       "      <th>3</th>\n",
       "      <td>[{'thumbnails': {'large': {'height': 500, 'url...</td>\n",
       "      <td>BaD</td>\n",
       "      <td>Barry D</td>\n",
       "      <td>NaN</td>\n",
       "      <td>NaN</td>\n",
       "      <td>recFKWrjwOUM5oWxI</td>\n",
       "      <td>https://dl.airtable.com/4NWLSnTFRwSfdFDBAt9A_l...</td>\n",
       "    </tr>\n",
       "    <tr>\n",
       "      <th>14</th>\n",
       "      <td>[{'thumbnails': {'large': {'height': 500, 'url...</td>\n",
       "      <td>MB</td>\n",
       "      <td>Matthew</td>\n",
       "      <td>NaN</td>\n",
       "      <td>NaN</td>\n",
       "      <td>recwl2PnrQ8ueQBQ7</td>\n",
       "      <td>https://dl.airtable.com/yXqIqKWoQcWED51FYjOO_l...</td>\n",
       "    </tr>\n",
       "    <tr>\n",
       "      <th>5</th>\n",
       "      <td>[{'thumbnails': {'large': {'height': 500, 'url...</td>\n",
       "      <td>NT</td>\n",
       "      <td>Ninotschka</td>\n",
       "      <td>NaN</td>\n",
       "      <td>[rec0tbY526abDXcRr]</td>\n",
       "      <td>recHLT6IoCZXwwtp3</td>\n",
       "      <td>https://dl.airtable.com/n5K9IIPLSEiPPcY8qKCG_l...</td>\n",
       "    </tr>\n",
       "    <tr>\n",
       "      <th>12</th>\n",
       "      <td>[{'thumbnails': {'large': {'height': 500, 'url...</td>\n",
       "      <td>CB</td>\n",
       "      <td>Chris B</td>\n",
       "      <td>NaN</td>\n",
       "      <td>[rectkEzpAV9fxHPwS]</td>\n",
       "      <td>reck4uCQdMmA9Dy0e</td>\n",
       "      <td>https://dl.airtable.com/1ocVojsCTZJYDRTtp7kI_l...</td>\n",
       "    </tr>\n",
       "  </tbody>\n",
       "</table>\n",
       "</div>"
      ],
      "text/plain": [
       "                                             Headshot Initials        Name  \\\n",
       "4                                                 NaN       RX  AI Richard   \n",
       "3   [{'thumbnails': {'large': {'height': 500, 'url...      BaD     Barry D   \n",
       "14  [{'thumbnails': {'large': {'height': 500, 'url...       MB     Matthew   \n",
       "5   [{'thumbnails': {'large': {'height': 500, 'url...       NT  Ninotschka   \n",
       "12  [{'thumbnails': {'large': {'height': 500, 'url...       CB     Chris B   \n",
       "\n",
       "   Notes                Techs                 id  \\\n",
       "4    NaN                  NaN  recFUgthTUYQnR7Mz   \n",
       "3    NaN                  NaN  recFKWrjwOUM5oWxI   \n",
       "14   NaN                  NaN  recwl2PnrQ8ueQBQ7   \n",
       "5    NaN  [rec0tbY526abDXcRr]  recHLT6IoCZXwwtp3   \n",
       "12   NaN  [rectkEzpAV9fxHPwS]  reck4uCQdMmA9Dy0e   \n",
       "\n",
       "                                          thumb_large  \n",
       "4   http://getdrawings.com/images/casper-drawing-8...  \n",
       "3   https://dl.airtable.com/4NWLSnTFRwSfdFDBAt9A_l...  \n",
       "14  https://dl.airtable.com/yXqIqKWoQcWED51FYjOO_l...  \n",
       "5   https://dl.airtable.com/n5K9IIPLSEiPPcY8qKCG_l...  \n",
       "12  https://dl.airtable.com/1ocVojsCTZJYDRTtp7kI_l...  "
      ]
     },
     "execution_count": 84,
     "metadata": {},
     "output_type": "execute_result"
    }
   ],
   "source": [
    "people_data = get_table(\"People\")\n",
    "people_data[\"thumb_large\"] = people_data.apply(get_thumb, axis=1)\n",
    "people_data.sample(5)"
   ]
  },
  {
   "cell_type": "code",
   "execution_count": 83,
   "metadata": {
    "ExecuteTime": {
     "end_time": "2018-06-08T06:49:50.428932Z",
     "start_time": "2018-06-08T06:49:50.401932Z"
    }
   },
   "outputs": [],
   "source": [
    "# make the dictionary have the project name as a key, instead of bing a list of independent dicts\n",
    "simple_people_dict = people_data.to_dict(orient=\"records\")\n",
    "new_p_dict = {}\n",
    "for row in simple_people_dict:\n",
    "    new_p_dict[row[\"id\"]] = row\n",
    "    \n",
    "new_p_dict\n",
    "\n",
    "\n",
    "with open('peopleData.js', 'w') as f:\n",
    "    j = simplejson.dumps(new_p_dict, ignore_nan=True, sort_keys=True, indent=2)\n",
    "    f.write(\"var peopleData = {json};\".format(json=j))"
   ]
  },
  {
   "cell_type": "markdown",
   "metadata": {
    "ExecuteTime": {
     "end_time": "2018-05-30T07:34:48.821436Z",
     "start_time": "2018-05-30T07:34:48.772431Z"
    }
   },
   "source": [
    "![](https://dl.airtable.com/vao3Ge65RXuQs17gLU4p_small_MVIMG_20180224_173642.jpg)"
   ]
  }
 ],
 "metadata": {
  "kernelspec": {
   "display_name": "Python 3",
   "language": "python",
   "name": "python3"
  },
  "language_info": {
   "codemirror_mode": {
    "name": "ipython",
    "version": 3
   },
   "file_extension": ".py",
   "mimetype": "text/x-python",
   "name": "python",
   "nbconvert_exporter": "python",
   "pygments_lexer": "ipython3",
   "version": "3.5.4"
  },
  "toc": {
   "nav_menu": {},
   "number_sections": true,
   "sideBar": true,
   "skip_h1_title": false,
   "toc_cell": false,
   "toc_position": {},
   "toc_section_display": "block",
   "toc_window_display": false
  },
  "varInspector": {
   "cols": {
    "lenName": 16,
    "lenType": 16,
    "lenVar": 40
   },
   "kernels_config": {
    "python": {
     "delete_cmd_postfix": "",
     "delete_cmd_prefix": "del ",
     "library": "var_list.py",
     "varRefreshCmd": "print(var_dic_list())"
    },
    "r": {
     "delete_cmd_postfix": ") ",
     "delete_cmd_prefix": "rm(",
     "library": "var_list.r",
     "varRefreshCmd": "cat(var_dic_list()) "
    }
   },
   "types_to_exclude": [
    "module",
    "function",
    "builtin_function_or_method",
    "instance",
    "_Feature"
   ],
   "window_display": false
  }
 },
 "nbformat": 4,
 "nbformat_minor": 2
}
