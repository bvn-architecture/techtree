{
 "cells": [
  {
   "cell_type": "markdown",
   "metadata": {},
   "source": [
    "# Get Data from Airtable\n",
    "\n",
    "This gets the data from the two tables and formats it into dataframes. It's probably not the cleanest thing in the world, but hopefully it'll do for now."
   ]
  },
  {
   "cell_type": "code",
   "execution_count": 1,
   "metadata": {
    "ExecuteTime": {
     "end_time": "2018-06-07T09:33:36.432973Z",
     "start_time": "2018-06-07T09:33:34.280973Z"
    },
    "collapsed": true
   },
   "outputs": [],
   "source": [
    "import ast\n",
    "import pandas as pd\n",
    "import requests\n",
    "from graphviz import Source\n",
    "import textwrap"
   ]
  },
  {
   "cell_type": "code",
   "execution_count": 48,
   "metadata": {
    "ExecuteTime": {
     "end_time": "2018-06-07T10:22:45.698973Z",
     "start_time": "2018-06-07T10:22:44.655973Z"
    }
   },
   "outputs": [
    {
     "data": {
      "text/html": [
       "<div>\n",
       "<style>\n",
       "    .dataframe thead tr:only-child th {\n",
       "        text-align: right;\n",
       "    }\n",
       "\n",
       "    .dataframe thead th {\n",
       "        text-align: left;\n",
       "    }\n",
       "\n",
       "    .dataframe tbody tr th {\n",
       "        vertical-align: top;\n",
       "    }\n",
       "</style>\n",
       "<table border=\"1\" class=\"dataframe\">\n",
       "  <thead>\n",
       "    <tr style=\"text-align: right;\">\n",
       "      <th></th>\n",
       "      <th>LongName</th>\n",
       "      <th>Name</th>\n",
       "      <th>Other_people_involved</th>\n",
       "      <th>Owner</th>\n",
       "      <th>Type</th>\n",
       "      <th>percentComplete</th>\n",
       "      <th>precursors</th>\n",
       "    </tr>\n",
       "    <tr>\n",
       "      <th>id</th>\n",
       "      <th></th>\n",
       "      <th></th>\n",
       "      <th></th>\n",
       "      <th></th>\n",
       "      <th></th>\n",
       "      <th></th>\n",
       "      <th></th>\n",
       "    </tr>\n",
       "  </thead>\n",
       "  <tbody>\n",
       "    <tr>\n",
       "      <th>recXEw0Q2LFFIa2XB</th>\n",
       "      <td>Data Literacy</td>\n",
       "      <td>data</td>\n",
       "      <td>NaN</td>\n",
       "      <td>NaN</td>\n",
       "      <td>Capability</td>\n",
       "      <td>0</td>\n",
       "      <td>NaN</td>\n",
       "    </tr>\n",
       "    <tr>\n",
       "      <th>recDOicHkVaPVArFd</th>\n",
       "      <td>Robotic Building Topology Modification</td>\n",
       "      <td>RBTM</td>\n",
       "      <td>NaN</td>\n",
       "      <td>NaN</td>\n",
       "      <td>NaN</td>\n",
       "      <td>0</td>\n",
       "      <td>[recJMJDs4EKTMzUQm]</td>\n",
       "    </tr>\n",
       "    <tr>\n",
       "      <th>rec0ArDcPS4hLrmJq</th>\n",
       "      <td>A Plane of Thrones Paper</td>\n",
       "      <td>potPaper</td>\n",
       "      <td>NaN</td>\n",
       "      <td>[recgcDkgKvrBLH1k0]</td>\n",
       "      <td>Publication</td>\n",
       "      <td>0</td>\n",
       "      <td>[recflCm8BzuGQbmW0, recSIIp1grVggDGQo]</td>\n",
       "    </tr>\n",
       "    <tr>\n",
       "      <th>recnjUfIqLIJp934C</th>\n",
       "      <td>Continuous Analysis, Design &amp; Delivery</td>\n",
       "      <td>cadd</td>\n",
       "      <td>NaN</td>\n",
       "      <td>NaN</td>\n",
       "      <td>Capability</td>\n",
       "      <td>0</td>\n",
       "      <td>[recnwxulBH9KL5lLV, recDOicHkVaPVArFd, recnXgQ...</td>\n",
       "    </tr>\n",
       "    <tr>\n",
       "      <th>recg3Af1SGeuhckqO</th>\n",
       "      <td>Desk Location</td>\n",
       "      <td>deskLoc</td>\n",
       "      <td>NaN</td>\n",
       "      <td>NaN</td>\n",
       "      <td>Project</td>\n",
       "      <td>0</td>\n",
       "      <td>[recBSgYm9bZFyanp3]</td>\n",
       "    </tr>\n",
       "    <tr>\n",
       "      <th>recmNHHmIUj4nPild</th>\n",
       "      <td>altSpace</td>\n",
       "      <td>altSpace</td>\n",
       "      <td>NaN</td>\n",
       "      <td>[recHN7P3Wz3YGdAN2]</td>\n",
       "      <td>Project</td>\n",
       "      <td>0</td>\n",
       "      <td>[rec916rZDT7JzwkZs]</td>\n",
       "    </tr>\n",
       "    <tr>\n",
       "      <th>recwy65aPjhG9k7DU</th>\n",
       "      <td>Shakedown Blog</td>\n",
       "      <td>ShakedownBlog</td>\n",
       "      <td>NaN</td>\n",
       "      <td>NaN</td>\n",
       "      <td>Publication</td>\n",
       "      <td>0</td>\n",
       "      <td>[recL2m88D6TZ1chAj]</td>\n",
       "    </tr>\n",
       "    <tr>\n",
       "      <th>recFT5OW9AN6NJAAp</th>\n",
       "      <td>Social Network Analysis</td>\n",
       "      <td>SNA</td>\n",
       "      <td>NaN</td>\n",
       "      <td>[recgcDkgKvrBLH1k0]</td>\n",
       "      <td>NaN</td>\n",
       "      <td>0</td>\n",
       "      <td>[recF1PTEM9uexmaTm, recCdV0IBu62AhiOt, recLOjx...</td>\n",
       "    </tr>\n",
       "    <tr>\n",
       "      <th>rectkEzpAV9fxHPwS</th>\n",
       "      <td>Systems Reef</td>\n",
       "      <td>systemReef</td>\n",
       "      <td>[reck4uCQdMmA9Dy0e]</td>\n",
       "      <td>[recHLT6IoCZXwwtp3]</td>\n",
       "      <td>NaN</td>\n",
       "      <td>0</td>\n",
       "      <td>NaN</td>\n",
       "    </tr>\n",
       "    <tr>\n",
       "      <th>rec916rZDT7JzwkZs</th>\n",
       "      <td>Geographic/ Ethnographic data 2</td>\n",
       "      <td>geoEthno2</td>\n",
       "      <td>NaN</td>\n",
       "      <td>NaN</td>\n",
       "      <td>NaN</td>\n",
       "      <td>0</td>\n",
       "      <td>[recC9Zxt4MV7hRodc, rec2musyOg3qL274O]</td>\n",
       "    </tr>\n",
       "  </tbody>\n",
       "</table>\n",
       "</div>"
      ],
      "text/plain": [
       "                                                 LongName           Name  \\\n",
       "id                                                                         \n",
       "recXEw0Q2LFFIa2XB                           Data Literacy           data   \n",
       "recDOicHkVaPVArFd  Robotic Building Topology Modification           RBTM   \n",
       "rec0ArDcPS4hLrmJq                A Plane of Thrones Paper       potPaper   \n",
       "recnjUfIqLIJp934C  Continuous Analysis, Design & Delivery           cadd   \n",
       "recg3Af1SGeuhckqO                           Desk Location        deskLoc   \n",
       "recmNHHmIUj4nPild                                altSpace       altSpace   \n",
       "recwy65aPjhG9k7DU                          Shakedown Blog  ShakedownBlog   \n",
       "recFT5OW9AN6NJAAp                 Social Network Analysis            SNA   \n",
       "rectkEzpAV9fxHPwS                            Systems Reef     systemReef   \n",
       "rec916rZDT7JzwkZs         Geographic/ Ethnographic data 2      geoEthno2   \n",
       "\n",
       "                  Other_people_involved                Owner         Type  \\\n",
       "id                                                                          \n",
       "recXEw0Q2LFFIa2XB                   NaN                  NaN   Capability   \n",
       "recDOicHkVaPVArFd                   NaN                  NaN          NaN   \n",
       "rec0ArDcPS4hLrmJq                   NaN  [recgcDkgKvrBLH1k0]  Publication   \n",
       "recnjUfIqLIJp934C                   NaN                  NaN   Capability   \n",
       "recg3Af1SGeuhckqO                   NaN                  NaN      Project   \n",
       "recmNHHmIUj4nPild                   NaN  [recHN7P3Wz3YGdAN2]      Project   \n",
       "recwy65aPjhG9k7DU                   NaN                  NaN  Publication   \n",
       "recFT5OW9AN6NJAAp                   NaN  [recgcDkgKvrBLH1k0]          NaN   \n",
       "rectkEzpAV9fxHPwS   [reck4uCQdMmA9Dy0e]  [recHLT6IoCZXwwtp3]          NaN   \n",
       "rec916rZDT7JzwkZs                   NaN                  NaN          NaN   \n",
       "\n",
       "                   percentComplete  \\\n",
       "id                                   \n",
       "recXEw0Q2LFFIa2XB                0   \n",
       "recDOicHkVaPVArFd                0   \n",
       "rec0ArDcPS4hLrmJq                0   \n",
       "recnjUfIqLIJp934C                0   \n",
       "recg3Af1SGeuhckqO                0   \n",
       "recmNHHmIUj4nPild                0   \n",
       "recwy65aPjhG9k7DU                0   \n",
       "recFT5OW9AN6NJAAp                0   \n",
       "rectkEzpAV9fxHPwS                0   \n",
       "rec916rZDT7JzwkZs                0   \n",
       "\n",
       "                                                          precursors  \n",
       "id                                                                    \n",
       "recXEw0Q2LFFIa2XB                                                NaN  \n",
       "recDOicHkVaPVArFd                                [recJMJDs4EKTMzUQm]  \n",
       "rec0ArDcPS4hLrmJq             [recflCm8BzuGQbmW0, recSIIp1grVggDGQo]  \n",
       "recnjUfIqLIJp934C  [recnwxulBH9KL5lLV, recDOicHkVaPVArFd, recnXgQ...  \n",
       "recg3Af1SGeuhckqO                                [recBSgYm9bZFyanp3]  \n",
       "recmNHHmIUj4nPild                                [rec916rZDT7JzwkZs]  \n",
       "recwy65aPjhG9k7DU                                [recL2m88D6TZ1chAj]  \n",
       "recFT5OW9AN6NJAAp  [recF1PTEM9uexmaTm, recCdV0IBu62AhiOt, recLOjx...  \n",
       "rectkEzpAV9fxHPwS                                                NaN  \n",
       "rec916rZDT7JzwkZs             [recC9Zxt4MV7hRodc, rec2musyOg3qL274O]  "
      ]
     },
     "execution_count": 48,
     "metadata": {},
     "output_type": "execute_result"
    }
   ],
   "source": [
    "def mergeD(ugly_data):\n",
    "    f = ugly_data[\"fields\"]\n",
    "    i = {\"id\": ugly_data[\"id\"]}\n",
    "    f.update(i)\n",
    "    return f\n",
    "\n",
    "def get_table(table_name):\n",
    "    \"\"\" \"\"\"\n",
    "    auth_headers = {'Authorization': 'Bearer keyYXkjYFw61SeWDk'}\n",
    "    table_url = 'https://api.airtable.com/v0/appuaXpFiadmP89sq/' + table_name\n",
    "    r = requests.get(table_url, headers=auth_headers)\n",
    "    d = eval(ast.literal_eval(str(r.content)[1:])) # this is almost certainly not the right way to do this!\n",
    "    \n",
    "    rows = [mergeD(x) for x in d[\"records\"]]\n",
    "    data_frame = pd.DataFrame(rows)\n",
    "    return data_frame\n",
    "\n",
    "project_data = get_table(\"Techs\")\n",
    "project_data.set_index(\"id\", inplace=True)\n",
    "project_data.sample(10)"
   ]
  },
  {
   "cell_type": "code",
   "execution_count": 44,
   "metadata": {
    "ExecuteTime": {
     "end_time": "2018-06-07T10:15:35.555973Z",
     "start_time": "2018-06-07T10:15:35.548973Z"
    }
   },
   "outputs": [
    {
     "data": {
      "text/plain": [
       "'pot'"
      ]
     },
     "execution_count": 44,
     "metadata": {},
     "output_type": "execute_result"
    }
   ],
   "source": [
    "project_data.loc[\"recflCm8BzuGQbmW0\"].Name"
   ]
  },
  {
   "cell_type": "code",
   "execution_count": 49,
   "metadata": {
    "ExecuteTime": {
     "end_time": "2018-06-07T10:22:47.708973Z",
     "start_time": "2018-06-07T10:22:47.628973Z"
    }
   },
   "outputs": [
    {
     "data": {
      "text/plain": [
       "['digraph G {',\n",
       " ' rankdir  = \"LR\";',\n",
       " ' label    = \"Tech Tree of OATMEAL Projects\";',\n",
       " ' labelloc = \"t\";',\n",
       " ' node [style=filled,',\n",
       " '       color=\"black\", ',\n",
       " '       fontcolor=\"white\", ',\n",
       " '       shape=\"oval\", ',\n",
       " '       fixedsize=true, ',\n",
       " '       width=2,',\n",
       " '       height=2];',\n",
       " ' ',\n",
       " ' potPaper [label=\"A Plane of Thrones\\nPaper\"];',\n",
       " ' robPaper [label=\"Robotics Papers\"];',\n",
       " ' deskSenseDn [label=\"Below Desk Sensing\"];',\n",
       " ' desks [label=\"Unit Desks\"];',\n",
       " ' deskSenseUp [label=\"Above Desk Sensing\"];',\n",
       " ' mApp [label=\"Mobile App\"];',\n",
       " ' geoEthno2 [label=\"Geographic/\\nEthnographic data 2\"];',\n",
       " ' basicBeacon [label=\"iBeacon Awareness\"];',\n",
       " ' sensicorn2 [label=\"Sensicorn 2\"];',\n",
       " ' geoEthno1 [label=\"Geographic/\\nEthnographic data 1\"];',\n",
       " ' emailData [label=\"Email Data\"];',\n",
       " ' RBTM [label=\"Robotic Building\\nTopology Modification\"];',\n",
       " ' basicRobot [label=\"Awareness of Robots\"];',\n",
       " ' timeData [label=\"Timesheet Data\"];',\n",
       " ' SNA [label=\"Social Network\\nAnalysis\"];',\n",
       " ' changeSpace [label=\"Change Space\\nCollective\"];',\n",
       " ' robDesk [label=\"Robotic Desk\\nArrangement\"];',\n",
       " ' Shakedown [label=\"Shakedown data\\ncapture\"];',\n",
       " ' SNAawareness [label=\"SNA Awareness\"];',\n",
       " ' phone [label=\"Access To Phones\"];',\n",
       " ' halo [label=\"Robotic Weaving\"];',\n",
       " ' SNAblog [label=\"Social Network\\nAnalysis Blog Post\"];',\n",
       " ' SydStudioSeating [label=\"Sydney Studio Seating\"];',\n",
       " ' revit2ML [label=\"Revit Layout\\nExtraction\"];',\n",
       " ' data [label=\"Data Literacy\"];',\n",
       " ' sensicorn1 [label=\"Sensicorn 1\"];',\n",
       " ' SydStudioSeating2 [label=\"Better Sydney Studio\\nSeating\"];',\n",
       " ' diary [label=\"Diary Studies\"];',\n",
       " ' SLAM [label=\"SLAM (Simultanious\\nLocation And Mapping)\"];',\n",
       " ' bravo [label=\"Bravo Victor November\"];',\n",
       " ' pot [label=\"A Plane of Thrones\\nFramework\"];',\n",
       " ' deskLoc [label=\"Desk Location\"];',\n",
       " ' electron [label=\"Desktop App\"];',\n",
       " ' robSense [label=\"Robot Mounted Sensing\"];',\n",
       " ' boom [label=\"Distribution Boom\"];',\n",
       " ' altSpace [label=\"altSpace\"];',\n",
       " ' AIlayout [label=\"AI Layout\"];',\n",
       " ' lAmp [label=\"Learning Amplified\\nSeating Plans\"];',\n",
       " ' bizCap [label=\"Capturing Business\\nMetrics\"];',\n",
       " ' loTraining [label=\"Layout Training Data\"];',\n",
       " ' cadd [label=\"Continuous Analysis,\\nDesign & Delivery\"];',\n",
       " ' geoEthno3 [label=\"Geographic/\\nEthnographic data 3\"];',\n",
       " ' ShakedownPaper [label=\"Shakedown Paper\"];',\n",
       " ' s3 [label=\"S3\"];',\n",
       " ' sensors [label=\"Sensor Literacy\"];',\n",
       " ' pathVis [label=\"Path Visualisation\"];',\n",
       " ' lExp [label=\"Learning Experiment\"];',\n",
       " ' systemReef [label=\"Systems Reef\"];',\n",
       " ' ShakedownBlog [label=\"Shakedown Blog\"];',\n",
       " ' Shakedown2 [label=\"Shakedown (with\\nstalls) Product\"];',\n",
       " ' hardware [label=\"Hardware Design\"];',\n",
       " ' BTARATA [label=\"Buildings That Are\\nRight All The Time\"];',\n",
       " ' ',\n",
       " ' pot -> potPaper;',\n",
       " ' revit2ML -> potPaper;',\n",
       " ' halo -> robPaper;',\n",
       " ' boom -> desks;',\n",
       " ' halo -> desks;',\n",
       " ' s3 -> deskSenseUp;',\n",
       " ' phone -> mApp;',\n",
       " ' geoEthno1 -> geoEthno2;',\n",
       " ' deskSenseDn -> geoEthno2;',\n",
       " ' sensicorn1 -> sensicorn2;',\n",
       " ' mApp -> sensicorn2;',\n",
       " ' deskSenseUp -> geoEthno1;',\n",
       " ' diary -> geoEthno1;',\n",
       " ' deskLoc -> geoEthno1;',\n",
       " ' robDesk -> RBTM;',\n",
       " ' timeData -> SNA;',\n",
       " ' emailData -> SNA;',\n",
       " ' SNAawareness -> SNA;',\n",
       " ' geoEthno1 -> changeSpace;',\n",
       " ' AIlayout -> robDesk;',\n",
       " ' lAmp -> robDesk;',\n",
       " ' sensors -> Shakedown;',\n",
       " ' basicRobot -> halo;',\n",
       " ' systemReef -> halo;',\n",
       " ' SNA -> SNAblog;',\n",
       " ' lExp -> SydStudioSeating;',\n",
       " ' deskLoc -> SydStudioSeating;',\n",
       " ' pathVis -> sensicorn1;',\n",
       " ' hardware -> sensicorn1;',\n",
       " ' SydStudioSeating -> SydStudioSeating2;',\n",
       " ' electron -> diary;',\n",
       " ' basicRobot -> SLAM;',\n",
       " ' basicBeacon -> deskLoc;',\n",
       " ' SLAM -> robSense;',\n",
       " ' sensors -> robSense;',\n",
       " ' geoEthno2 -> altSpace;',\n",
       " ' lExp -> lAmp;',\n",
       " ' SNA -> lAmp;',\n",
       " ' pot -> lAmp;',\n",
       " ' revit2ML -> loTraining;',\n",
       " ' geoEthno3 -> cadd;',\n",
       " ' RBTM -> cadd;',\n",
       " ' bizCap -> cadd;',\n",
       " ' geoEthno2 -> geoEthno3;',\n",
       " ' Shakedown -> ShakedownPaper;',\n",
       " ' hardware -> s3;',\n",
       " ' data -> sensors;',\n",
       " ' Shakedown -> ShakedownBlog;',\n",
       " ' Shakedown -> Shakedown2;',\n",
       " ' cadd -> BTARATA;',\n",
       " ' {rank = same; data; basicRobot; hardware; systemReef; SNAawareness}',\n",
       " ' \\n}']"
      ]
     },
     "execution_count": 49,
     "metadata": {},
     "output_type": "execute_result"
    }
   ],
   "source": [
    "node_description_pattern = \"{name} [label=\\\"{longName}\\\"];\"\n",
    "edge_pattern = \"{from_node} -> {to_node};\"\n",
    "\n",
    "node_descriptions = []\n",
    "edges = []\n",
    "for i, row in project_data.iterrows():\n",
    "    try:\n",
    "#         ln = textwrap.fill(row[\"LongName\"], 21)\n",
    "        ln = \"\\n\".join( textwrap.wrap(row[\"LongName\"], 21))\n",
    "    except Exception as e:\n",
    "        ln = row[\"LongName\"]\n",
    "    n = node_description_pattern.format(name=row[\"Name\"], longName=ln)\n",
    "    node_descriptions.append(n)\n",
    "    if type(row[\"precursors\"]) is not float: # nothing reads as NaN, therefore float\n",
    "        precursors = row[\"precursors\"]#.split(\",\")\n",
    "        for precursor in precursors:\n",
    "            e = edge_pattern.format(from_node=project_data.loc[precursor].Name,\n",
    "                                    to_node=row[\"Name\"])\n",
    "            edges.append(e)\n",
    "\n",
    "g = \"\"\"digraph G {{\n",
    "  rankdir  = \"LR\";\n",
    "  label    = \"Tech Tree of OATMEAL Projects\";\n",
    "  labelloc = \"t\";\n",
    "  node [style=filled,\n",
    "        color=\"black\", \n",
    "        fontcolor=\"white\", \n",
    "        shape=\"oval\", \n",
    "        fixedsize=true, \n",
    "        width=2,\n",
    "        height=2];\n",
    "  \n",
    "  {nodes}\n",
    "  \n",
    "  {edges}\n",
    "  {{rank = same; data; basicRobot; hardware; systemReef; SNAawareness}}\n",
    "  \n",
    "}}\"\"\".format(edges=\"\\n  \".join(edges), nodes=\"\\n  \".join(node_descriptions))\n",
    "\n",
    "\n",
    "# print(g)\n",
    "g.split(\"\\n \")"
   ]
  },
  {
   "cell_type": "code",
   "execution_count": null,
   "metadata": {
    "ExecuteTime": {
     "end_time": "2018-06-05T07:57:13.838943Z",
     "start_time": "2018-06-05T07:57:13.830943Z"
    },
    "collapsed": true
   },
   "outputs": [],
   "source": []
  },
  {
   "cell_type": "code",
   "execution_count": 5,
   "metadata": {
    "ExecuteTime": {
     "end_time": "2018-06-07T09:33:38.599973Z",
     "start_time": "2018-06-07T09:33:37.661973Z"
    },
    "collapsed": true
   },
   "outputs": [],
   "source": [
    "people_data = get_table(\"People\")"
   ]
  },
  {
   "cell_type": "code",
   "execution_count": 6,
   "metadata": {
    "ExecuteTime": {
     "end_time": "2018-06-07T09:33:38.644973Z",
     "start_time": "2018-06-07T09:33:38.601973Z"
    }
   },
   "outputs": [
    {
     "data": {
      "text/html": [
       "<div>\n",
       "<style>\n",
       "    .dataframe thead tr:only-child th {\n",
       "        text-align: right;\n",
       "    }\n",
       "\n",
       "    .dataframe thead th {\n",
       "        text-align: left;\n",
       "    }\n",
       "\n",
       "    .dataframe tbody tr th {\n",
       "        vertical-align: top;\n",
       "    }\n",
       "</style>\n",
       "<table border=\"1\" class=\"dataframe\">\n",
       "  <thead>\n",
       "    <tr style=\"text-align: right;\">\n",
       "      <th></th>\n",
       "      <th>Headshot</th>\n",
       "      <th>Initials</th>\n",
       "      <th>Name</th>\n",
       "      <th>Techs</th>\n",
       "      <th>id</th>\n",
       "      <th>thumb_large</th>\n",
       "    </tr>\n",
       "  </thead>\n",
       "  <tbody>\n",
       "    <tr>\n",
       "      <th>0</th>\n",
       "      <td>NaN</td>\n",
       "      <td>KM</td>\n",
       "      <td>Kevin M</td>\n",
       "      <td>[recnXgQGgzh4q3t9M]</td>\n",
       "      <td>rec0dpxUhHfgHWU7r</td>\n",
       "      <td>http://getdrawings.com/images/casper-drawing-8...</td>\n",
       "    </tr>\n",
       "    <tr>\n",
       "      <th>1</th>\n",
       "      <td>NaN</td>\n",
       "      <td>ARR</td>\n",
       "      <td>Annisa</td>\n",
       "      <td>[recru4UXYdMmO7sX8]</td>\n",
       "      <td>rec3HypnJiuTkeVBJ</td>\n",
       "      <td>http://getdrawings.com/images/casper-drawing-8...</td>\n",
       "    </tr>\n",
       "    <tr>\n",
       "      <th>2</th>\n",
       "      <td>NaN</td>\n",
       "      <td>BaD</td>\n",
       "      <td>Barry D</td>\n",
       "      <td>NaN</td>\n",
       "      <td>recFKWrjwOUM5oWxI</td>\n",
       "      <td>http://getdrawings.com/images/casper-drawing-8...</td>\n",
       "    </tr>\n",
       "    <tr>\n",
       "      <th>3</th>\n",
       "      <td>NaN</td>\n",
       "      <td>RX</td>\n",
       "      <td>AI Richard</td>\n",
       "      <td>NaN</td>\n",
       "      <td>recFUgthTUYQnR7Mz</td>\n",
       "      <td>http://getdrawings.com/images/casper-drawing-8...</td>\n",
       "    </tr>\n",
       "    <tr>\n",
       "      <th>4</th>\n",
       "      <td>NaN</td>\n",
       "      <td>NT</td>\n",
       "      <td>NT</td>\n",
       "      <td>[rec3robMWYUXVp8GD, recli0IRLQZowpWoF, rectkEz...</td>\n",
       "      <td>recHLT6IoCZXwwtp3</td>\n",
       "      <td>http://getdrawings.com/images/casper-drawing-8...</td>\n",
       "    </tr>\n",
       "    <tr>\n",
       "      <th>5</th>\n",
       "      <td>NaN</td>\n",
       "      <td>BiD</td>\n",
       "      <td>Bill</td>\n",
       "      <td>[recmNHHmIUj4nPild, recHpePW60ZlXrLKY]</td>\n",
       "      <td>recHN7P3Wz3YGdAN2</td>\n",
       "      <td>http://getdrawings.com/images/casper-drawing-8...</td>\n",
       "    </tr>\n",
       "    <tr>\n",
       "      <th>6</th>\n",
       "      <td>NaN</td>\n",
       "      <td>BC</td>\n",
       "      <td>Barry C</td>\n",
       "      <td>NaN</td>\n",
       "      <td>recMZdSRhVMMJQcOb</td>\n",
       "      <td>http://getdrawings.com/images/casper-drawing-8...</td>\n",
       "    </tr>\n",
       "    <tr>\n",
       "      <th>7</th>\n",
       "      <td>[{'id': 'attiDpgZgGjEWT4iR', 'size': 7441317, ...</td>\n",
       "      <td>BeD</td>\n",
       "      <td>Ben</td>\n",
       "      <td>[reccHCPeML8SyRFTp, rec5v7YBAh4XzeOQ7, recSIIp...</td>\n",
       "      <td>rece9qyNSfMqAhZAL</td>\n",
       "      <td>https://dl.airtable.com/nUBlmdvR1iLT0mCbllA1_l...</td>\n",
       "    </tr>\n",
       "    <tr>\n",
       "      <th>8</th>\n",
       "      <td>NaN</td>\n",
       "      <td>IV</td>\n",
       "      <td>Ishaan</td>\n",
       "      <td>[recCdV0IBu62AhiOt, recmjo5fVtiAflmvo, recflCm...</td>\n",
       "      <td>recgcDkgKvrBLH1k0</td>\n",
       "      <td>http://getdrawings.com/images/casper-drawing-8...</td>\n",
       "    </tr>\n",
       "    <tr>\n",
       "      <th>9</th>\n",
       "      <td>NaN</td>\n",
       "      <td>AR</td>\n",
       "      <td>Aiden</td>\n",
       "      <td>[rec5v7YBAh4XzeOQ7, rec2musyOg3qL274O, reczMCu...</td>\n",
       "      <td>recj2rmnndUmxB3Dt</td>\n",
       "      <td>http://getdrawings.com/images/casper-drawing-8...</td>\n",
       "    </tr>\n",
       "    <tr>\n",
       "      <th>10</th>\n",
       "      <td>NaN</td>\n",
       "      <td>SF</td>\n",
       "      <td>Shawnee</td>\n",
       "      <td>[recmUQLIxzr2wiyzd]</td>\n",
       "      <td>recjdvfsS0ZXESR2L</td>\n",
       "      <td>http://getdrawings.com/images/casper-drawing-8...</td>\n",
       "    </tr>\n",
       "    <tr>\n",
       "      <th>11</th>\n",
       "      <td>NaN</td>\n",
       "      <td>CB</td>\n",
       "      <td>Chris B</td>\n",
       "      <td>[rectkEzpAV9fxHPwS]</td>\n",
       "      <td>reck4uCQdMmA9Dy0e</td>\n",
       "      <td>http://getdrawings.com/images/casper-drawing-8...</td>\n",
       "    </tr>\n",
       "    <tr>\n",
       "      <th>12</th>\n",
       "      <td>NaN</td>\n",
       "      <td>BH</td>\n",
       "      <td>Baptiste</td>\n",
       "      <td>[rec5v7YBAh4XzeOQ7]</td>\n",
       "      <td>recuFyI25ChOwWWhr</td>\n",
       "      <td>http://getdrawings.com/images/casper-drawing-8...</td>\n",
       "    </tr>\n",
       "    <tr>\n",
       "      <th>13</th>\n",
       "      <td>NaN</td>\n",
       "      <td>MB</td>\n",
       "      <td>Matthew</td>\n",
       "      <td>NaN</td>\n",
       "      <td>recwl2PnrQ8ueQBQ7</td>\n",
       "      <td>http://getdrawings.com/images/casper-drawing-8...</td>\n",
       "    </tr>\n",
       "  </tbody>\n",
       "</table>\n",
       "</div>"
      ],
      "text/plain": [
       "                                             Headshot Initials        Name  \\\n",
       "0                                                 NaN       KM     Kevin M   \n",
       "1                                                 NaN      ARR      Annisa   \n",
       "2                                                 NaN      BaD     Barry D   \n",
       "3                                                 NaN       RX  AI Richard   \n",
       "4                                                 NaN       NT          NT   \n",
       "5                                                 NaN      BiD        Bill   \n",
       "6                                                 NaN       BC     Barry C   \n",
       "7   [{'id': 'attiDpgZgGjEWT4iR', 'size': 7441317, ...      BeD         Ben   \n",
       "8                                                 NaN       IV      Ishaan   \n",
       "9                                                 NaN       AR       Aiden   \n",
       "10                                                NaN       SF     Shawnee   \n",
       "11                                                NaN       CB     Chris B   \n",
       "12                                                NaN       BH    Baptiste   \n",
       "13                                                NaN       MB     Matthew   \n",
       "\n",
       "                                                Techs                 id  \\\n",
       "0                                 [recnXgQGgzh4q3t9M]  rec0dpxUhHfgHWU7r   \n",
       "1                                 [recru4UXYdMmO7sX8]  rec3HypnJiuTkeVBJ   \n",
       "2                                                 NaN  recFKWrjwOUM5oWxI   \n",
       "3                                                 NaN  recFUgthTUYQnR7Mz   \n",
       "4   [rec3robMWYUXVp8GD, recli0IRLQZowpWoF, rectkEz...  recHLT6IoCZXwwtp3   \n",
       "5              [recmNHHmIUj4nPild, recHpePW60ZlXrLKY]  recHN7P3Wz3YGdAN2   \n",
       "6                                                 NaN  recMZdSRhVMMJQcOb   \n",
       "7   [reccHCPeML8SyRFTp, rec5v7YBAh4XzeOQ7, recSIIp...  rece9qyNSfMqAhZAL   \n",
       "8   [recCdV0IBu62AhiOt, recmjo5fVtiAflmvo, recflCm...  recgcDkgKvrBLH1k0   \n",
       "9   [rec5v7YBAh4XzeOQ7, rec2musyOg3qL274O, reczMCu...  recj2rmnndUmxB3Dt   \n",
       "10                                [recmUQLIxzr2wiyzd]  recjdvfsS0ZXESR2L   \n",
       "11                                [rectkEzpAV9fxHPwS]  reck4uCQdMmA9Dy0e   \n",
       "12                                [rec5v7YBAh4XzeOQ7]  recuFyI25ChOwWWhr   \n",
       "13                                                NaN  recwl2PnrQ8ueQBQ7   \n",
       "\n",
       "                                          thumb_large  \n",
       "0   http://getdrawings.com/images/casper-drawing-8...  \n",
       "1   http://getdrawings.com/images/casper-drawing-8...  \n",
       "2   http://getdrawings.com/images/casper-drawing-8...  \n",
       "3   http://getdrawings.com/images/casper-drawing-8...  \n",
       "4   http://getdrawings.com/images/casper-drawing-8...  \n",
       "5   http://getdrawings.com/images/casper-drawing-8...  \n",
       "6   http://getdrawings.com/images/casper-drawing-8...  \n",
       "7   https://dl.airtable.com/nUBlmdvR1iLT0mCbllA1_l...  \n",
       "8   http://getdrawings.com/images/casper-drawing-8...  \n",
       "9   http://getdrawings.com/images/casper-drawing-8...  \n",
       "10  http://getdrawings.com/images/casper-drawing-8...  \n",
       "11  http://getdrawings.com/images/casper-drawing-8...  \n",
       "12  http://getdrawings.com/images/casper-drawing-8...  \n",
       "13  http://getdrawings.com/images/casper-drawing-8...  "
      ]
     },
     "execution_count": 6,
     "metadata": {},
     "output_type": "execute_result"
    }
   ],
   "source": [
    "def get_thumb(row):\n",
    "    try:\n",
    "        h = row[\"Headshot\"]\n",
    "        if type(h) is not float:\n",
    "            # TODO: make this check for small as well\n",
    "            x = list(h)\n",
    "            return x[0]['thumbnails'][\"large\"][\"url\"]\n",
    "        else:\n",
    "            return \"http://getdrawings.com/images/casper-drawing-8.jpg\"\n",
    "    except Exception as e:\n",
    "        print(e)\n",
    "        return \"http://getdrawings.com/images/casper-drawing-8.jpg\"\n",
    "\n",
    "people_data[\"thumb_large\"] = people_data.apply(get_thumb, axis=1)\n",
    "people_data"
   ]
  },
  {
   "cell_type": "markdown",
   "metadata": {},
   "source": [
    "Aiming for something that looks a bit like this:\n",
    "![](https://lh3.googleusercontent.com/xm3KUhGDiEDbr5v9jnlTv3kqqBDbTXP497VxE2otSsmHMpdDi5kBZaBnCnWCzknNFZynJw91wm8fRoOS_VqJCuQOA_4dCXYrqkIQG_YHMwmuNsqiPBJnAVRu1e1ZMvywiw9JkQDkCJM=w1430-h1015-no)\n",
    "So we need these bits of information:"
   ]
  },
  {
   "cell_type": "code",
   "execution_count": 7,
   "metadata": {
    "ExecuteTime": {
     "end_time": "2018-06-07T09:33:38.672973Z",
     "start_time": "2018-06-07T09:33:38.646973Z"
    }
   },
   "outputs": [
    {
     "name": "stdout",
     "output_type": "stream",
     "text": [
      "8    Above Desk Sensing\n",
      "Name: LongName, dtype: object\n"
     ]
    },
    {
     "data": {
      "text/html": [
       "<div>\n",
       "<style>\n",
       "    .dataframe thead tr:only-child th {\n",
       "        text-align: right;\n",
       "    }\n",
       "\n",
       "    .dataframe thead th {\n",
       "        text-align: left;\n",
       "    }\n",
       "\n",
       "    .dataframe tbody tr th {\n",
       "        vertical-align: top;\n",
       "    }\n",
       "</style>\n",
       "<table border=\"1\" class=\"dataframe\">\n",
       "  <thead>\n",
       "    <tr style=\"text-align: right;\">\n",
       "      <th></th>\n",
       "      <th>Field 1</th>\n",
       "      <th>Images</th>\n",
       "      <th>LongName</th>\n",
       "      <th>Name</th>\n",
       "      <th>Other_people_involved</th>\n",
       "      <th>Owner</th>\n",
       "      <th>Type</th>\n",
       "      <th>id</th>\n",
       "      <th>percentComplete</th>\n",
       "      <th>precursors</th>\n",
       "    </tr>\n",
       "  </thead>\n",
       "  <tbody>\n",
       "    <tr>\n",
       "      <th>8</th>\n",
       "      <td>12</td>\n",
       "      <td>NaN</td>\n",
       "      <td>Above Desk Sensing</td>\n",
       "      <td>deskSenseUp</td>\n",
       "      <td>[recuFyI25ChOwWWhr, rece9qyNSfMqAhZAL]</td>\n",
       "      <td>[recj2rmnndUmxB3Dt]</td>\n",
       "      <td>NaN</td>\n",
       "      <td>rec5v7YBAh4XzeOQ7</td>\n",
       "      <td>0.0</td>\n",
       "      <td>NaN</td>\n",
       "    </tr>\n",
       "  </tbody>\n",
       "</table>\n",
       "</div>"
      ],
      "text/plain": [
       "  Field 1 Images            LongName         Name  \\\n",
       "8      12    NaN  Above Desk Sensing  deskSenseUp   \n",
       "\n",
       "                    Other_people_involved                Owner Type  \\\n",
       "8  [recuFyI25ChOwWWhr, rece9qyNSfMqAhZAL]  [recj2rmnndUmxB3Dt]  NaN   \n",
       "\n",
       "                  id  percentComplete precursors  \n",
       "8  rec5v7YBAh4XzeOQ7              0.0        NaN  "
      ]
     },
     "execution_count": 7,
     "metadata": {},
     "output_type": "execute_result"
    }
   ],
   "source": [
    "this_project = project_data[project_data.Name == \"deskSenseUp\"] # \"AIlayout\" for my face\n",
    "print(this_project.LongName)\n",
    "owner = list(this_project.Owner)[0][0]\n",
    "this_project"
   ]
  },
  {
   "cell_type": "code",
   "execution_count": 8,
   "metadata": {
    "ExecuteTime": {
     "end_time": "2018-06-07T09:33:38.684973Z",
     "start_time": "2018-06-07T09:33:38.674973Z"
    }
   },
   "outputs": [
    {
     "data": {
      "text/plain": [
       "['http://getdrawings.com/images/casper-drawing-8.jpg']"
      ]
     },
     "execution_count": 8,
     "metadata": {},
     "output_type": "execute_result"
    }
   ],
   "source": [
    "list(people_data[people_data.id == owner].thumb_large)"
   ]
  },
  {
   "cell_type": "code",
   "execution_count": 9,
   "metadata": {
    "ExecuteTime": {
     "end_time": "2018-06-07T09:33:38.708973Z",
     "start_time": "2018-06-07T09:33:38.686973Z"
    }
   },
   "outputs": [
    {
     "name": "stdout",
     "output_type": "stream",
     "text": [
      "recuFyI25ChOwWWhr Baptiste http://getdrawings.com/images/casper-drawing-8.jpg\n"
     ]
    },
    {
     "data": {
      "text/plain": [
       "'http://getdrawings.com/images/casper-drawing-8.jpg'"
      ]
     },
     "metadata": {},
     "output_type": "display_data"
    },
    {
     "name": "stdout",
     "output_type": "stream",
     "text": [
      "rece9qyNSfMqAhZAL Ben https://dl.airtable.com/nUBlmdvR1iLT0mCbllA1_large_MVIMG_20180224_173642.jpg\n"
     ]
    },
    {
     "data": {
      "text/plain": [
       "'https://dl.airtable.com/nUBlmdvR1iLT0mCbllA1_large_MVIMG_20180224_173642.jpg'"
      ]
     },
     "metadata": {},
     "output_type": "display_data"
    }
   ],
   "source": [
    "from IPython.display import Image\n",
    "from IPython import display\n",
    "\n",
    "halpers = this_project.Other_people_involved.values[0]\n",
    "for h in halpers:\n",
    "    row = people_data[people_data.id == h]\n",
    "    print(h, row.Name.values[0], row.thumb_large.values[0])\n",
    "    display.display(row.thumb_large.values[0])\n",
    "#     Image()"
   ]
  },
  {
   "cell_type": "code",
   "execution_count": 10,
   "metadata": {
    "ExecuteTime": {
     "end_time": "2018-06-07T09:33:38.717973Z",
     "start_time": "2018-06-07T09:33:38.710973Z"
    }
   },
   "outputs": [
    {
     "data": {
      "text/plain": [
       "0.0"
      ]
     },
     "execution_count": 10,
     "metadata": {},
     "output_type": "execute_result"
    }
   ],
   "source": [
    "#now this is ready to drive the progress ring\n",
    "list(this_project.percentComplete)[0]#.replace(\"%\", \"\")"
   ]
  },
  {
   "cell_type": "code",
   "execution_count": null,
   "metadata": {
    "ExecuteTime": {
     "end_time": "2018-05-31T06:51:19.346882Z",
     "start_time": "2018-05-31T06:51:15.640Z"
    },
    "collapsed": true
   },
   "outputs": [],
   "source": []
  },
  {
   "cell_type": "markdown",
   "metadata": {
    "ExecuteTime": {
     "end_time": "2018-05-30T07:34:48.821436Z",
     "start_time": "2018-05-30T07:34:48.772431Z"
    }
   },
   "source": [
    "![](https://dl.airtable.com/vao3Ge65RXuQs17gLU4p_small_MVIMG_20180224_173642.jpg)"
   ]
  }
 ],
 "metadata": {
  "kernelspec": {
   "display_name": "Python 3",
   "language": "python",
   "name": "python3"
  },
  "language_info": {
   "codemirror_mode": {
    "name": "ipython",
    "version": 3
   },
   "file_extension": ".py",
   "mimetype": "text/x-python",
   "name": "python",
   "nbconvert_exporter": "python",
   "pygments_lexer": "ipython3",
   "version": "3.5.4"
  },
  "toc": {
   "nav_menu": {},
   "number_sections": true,
   "sideBar": true,
   "skip_h1_title": false,
   "toc_cell": false,
   "toc_position": {},
   "toc_section_display": "block",
   "toc_window_display": false
  },
  "varInspector": {
   "cols": {
    "lenName": 16,
    "lenType": 16,
    "lenVar": 40
   },
   "kernels_config": {
    "python": {
     "delete_cmd_postfix": "",
     "delete_cmd_prefix": "del ",
     "library": "var_list.py",
     "varRefreshCmd": "print(var_dic_list())"
    },
    "r": {
     "delete_cmd_postfix": ") ",
     "delete_cmd_prefix": "rm(",
     "library": "var_list.r",
     "varRefreshCmd": "cat(var_dic_list()) "
    }
   },
   "types_to_exclude": [
    "module",
    "function",
    "builtin_function_or_method",
    "instance",
    "_Feature"
   ],
   "window_display": false
  }
 },
 "nbformat": 4,
 "nbformat_minor": 2
}
